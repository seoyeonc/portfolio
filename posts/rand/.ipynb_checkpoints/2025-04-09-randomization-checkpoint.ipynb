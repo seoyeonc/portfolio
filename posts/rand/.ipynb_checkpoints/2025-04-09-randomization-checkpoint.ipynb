{
 "cells": [
  {
   "cell_type": "raw",
   "id": "e0cc2625-8d5c-423a-92d3-db254c2df7eb",
   "metadata": {
    "id": "cac470df-29e7-4148-9bbd-d8b9a32fa570",
    "tags": []
   },
   "source": [
    "---\n",
    "title: \"[Randomzation] Randomization\"\n",
    "author: \"SEOYEON CHOI\"\n",
    "date: \"2025-04-09\"\n",
    "---"
   ]
  },
  {
   "cell_type": "markdown",
   "id": "d080b985-ca82-4271-aa7d-e8da2db3ecf5",
   "metadata": {},
   "source": [
    "# Code"
   ]
  },
  {
   "cell_type": "markdown",
   "id": "adb871be-2326-4043-9b98-9c45542ee347",
   "metadata": {},
   "source": [
    "## Simple Randomization"
   ]
  },
  {
   "cell_type": "code",
   "execution_count": 29,
   "id": "504b6df3-3ceb-4f80-90ab-3389d701051f",
   "metadata": {},
   "outputs": [
    {
     "name": "stdout",
     "output_type": "stream",
     "text": [
      "   Subject_ID  Treatment Sequence\n",
      "0        S001          1      T-R\n",
      "1        S002          2      R-T\n",
      "2        S003          2      R-T\n",
      "3        S004          2      R-T\n",
      "4        S005          1      T-R\n",
      "5        S006          1      T-R\n",
      "6        S007          2      R-T\n",
      "7        S008          1      T-R\n",
      "8        S009          1      T-R\n",
      "9        S010          2      R-T\n",
      "10       S011          2      R-T\n",
      "11       S012          1      T-R\n",
      "12       S013          1      T-R\n",
      "13       S014          2      R-T\n",
      "14       S015          2      R-T\n",
      "15       S016          1      T-R\n",
      "16       S017          2      R-T\n",
      "17       S018          1      T-R\n",
      "18       S019          2      R-T\n",
      "19       S020          1      T-R\n",
      "20       S021          1      T-R\n",
      "21       S022          1      T-R\n",
      "22       S023          2      R-T\n",
      "23       S024          2      R-T\n"
     ]
    }
   ],
   "source": [
    "import random\n",
    "\n",
    "def chunked_shuffle(base_list, repeat=4, seed=42):\n",
    "    random.seed(seed)\n",
    "    result = []\n",
    "\n",
    "    for _ in range(repeat):\n",
    "        chunk = base_list.copy()\n",
    "        random.shuffle(chunk)\n",
    "        result.extend(chunk)\n",
    "\n",
    "    return result\n",
    "\n",
    "base = [1, 2, 3, 4, 5, 6]\n",
    "shuffled_list = chunked_shuffle(base, repeat=4, seed=20252025)\n",
    "binary_list = [1 if x <= 3 else 2 for x in shuffled_list]\n",
    "subject_ids = [f\"S{i+1:03}\" for i in range(len(shuffled_list))]\n",
    "\n",
    "sequence_list = ['T-R' if b == 1 else 'R-T' for b in binary_list]\n",
    "\n",
    "subject_ids = [f\"S{i+1:03}\" for i in range(len(shuffled_list))]\n",
    "\n",
    "df = pd.DataFrame({\n",
    "    'Subject_ID': subject_ids,\n",
    "    'Treatment': binary_list,\n",
    "    'Sequence': sequence_list\n",
    "})\n",
    "\n",
    "print(df)\n"
   ]
  },
  {
   "cell_type": "code",
   "execution_count": null,
   "id": "aa48b86b-66b1-4608-91ed-1b370141dfcd",
   "metadata": {},
   "outputs": [],
   "source": []
  }
 ],
 "metadata": {
  "kernelspec": {
   "display_name": "Python 3",
   "language": "python",
   "name": "python3"
  },
  "language_info": {
   "codemirror_mode": {
    "name": "ipython",
    "version": 3
   },
   "file_extension": ".py",
   "mimetype": "text/x-python",
   "name": "python",
   "nbconvert_exporter": "python",
   "pygments_lexer": "ipython3",
   "version": "3.8.0"
  }
 },
 "nbformat": 4,
 "nbformat_minor": 5
}
