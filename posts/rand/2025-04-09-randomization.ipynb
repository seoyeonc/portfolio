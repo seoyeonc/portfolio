{
 "cells": [
  {
   "cell_type": "raw",
   "id": "e0cc2625-8d5c-423a-92d3-db254c2df7eb",
   "metadata": {
    "id": "cac470df-29e7-4148-9bbd-d8b9a32fa570",
    "tags": []
   },
   "source": [
    "---\n",
    "title: \"[Randomzation] Randomization\"\n",
    "author: \"SEOYEON CHOI\"\n",
    "date: \"2025-04-09\"\n",
    "---"
   ]
  },
  {
   "cell_type": "markdown",
   "id": "d080b985-ca82-4271-aa7d-e8da2db3ecf5",
   "metadata": {},
   "source": [
    "# Code"
   ]
  },
  {
   "cell_type": "markdown",
   "id": "adb871be-2326-4043-9b98-9c45542ee347",
   "metadata": {},
   "source": [
    "## Block Randomization"
   ]
  },
  {
   "cell_type": "code",
   "execution_count": 30,
   "id": "504b6df3-3ceb-4f80-90ab-3389d701051f",
   "metadata": {},
   "outputs": [
    {
     "name": "stdout",
     "output_type": "stream",
     "text": [
      "   Subject_ID  Treatment Sequence\n",
      "0        S001          1      T-R\n",
      "1        S002          2      R-T\n",
      "2        S003          2      R-T\n",
      "3        S004          2      R-T\n",
      "4        S005          1      T-R\n",
      "5        S006          1      T-R\n",
      "6        S007          2      R-T\n",
      "7        S008          1      T-R\n",
      "8        S009          1      T-R\n",
      "9        S010          2      R-T\n",
      "10       S011          2      R-T\n",
      "11       S012          1      T-R\n",
      "12       S013          1      T-R\n",
      "13       S014          2      R-T\n",
      "14       S015          2      R-T\n",
      "15       S016          1      T-R\n",
      "16       S017          2      R-T\n",
      "17       S018          1      T-R\n",
      "18       S019          2      R-T\n",
      "19       S020          1      T-R\n",
      "20       S021          1      T-R\n",
      "21       S022          1      T-R\n",
      "22       S023          2      R-T\n",
      "23       S024          2      R-T\n"
     ]
    }
   ],
   "source": [
    "import random\n",
    "\n",
    "def chunked_shuffle(base_list, repeat=4, seed=42):\n",
    "    random.seed(seed)\n",
    "    result = []\n",
    "\n",
    "    for _ in range(repeat):\n",
    "        chunk = base_list.copy()\n",
    "        random.shuffle(chunk)\n",
    "        result.extend(chunk)\n",
    "\n",
    "    return result\n",
    "\n",
    "base = [1, 2, 3, 4, 5, 6]\n",
    "shuffled_list = chunked_shuffle(base, repeat=4, seed=20252025)\n",
    "binary_list = [1 if x <= 3 else 2 for x in shuffled_list]\n",
    "subject_ids = [f\"S{i+1:03}\" for i in range(len(shuffled_list))]\n",
    "\n",
    "sequence_list = ['T-R' if b == 1 else 'R-T' for b in binary_list]\n",
    "\n",
    "subject_ids = [f\"S{i+1:03}\" for i in range(len(shuffled_list))]\n",
    "\n",
    "df = pd.DataFrame({\n",
    "    'Subject_ID': subject_ids,\n",
    "    'Treatment': binary_list,\n",
    "    'Sequence': sequence_list\n",
    "})\n",
    "\n",
    "print(df)"
   ]
  },
  {
   "cell_type": "markdown",
   "id": "ca25f479-2c81-4bf6-99ce-eec4a93cb32f",
   "metadata": {},
   "source": [
    "## Stratified Randomization"
   ]
  },
  {
   "cell_type": "markdown",
   "id": "3f94c861-3da3-4be8-b0eb-f7624cbdc813",
   "metadata": {},
   "source": [
    "잠재적 교란요인을 줄이기 위해 층(strate)을 만든 후 각 층 내에서 간단한 무작위화 수행"
   ]
  },
  {
   "cell_type": "code",
   "execution_count": 32,
   "id": "1aea4024-324a-4b9f-9e1d-8a65a58e1f09",
   "metadata": {},
   "outputs": [
    {
     "name": "stdout",
     "output_type": "stream",
     "text": [
      "   Subject_ID     Sex          BMI      Group\n",
      "0        S001    Male  Underweight    Control\n",
      "1        S002    Male  Underweight    Control\n",
      "2        S003    Male  Underweight  Treatment\n",
      "3        S004    Male  Underweight  Treatment\n",
      "4        S005    Male  Underweight  Treatment\n",
      "5        S006    Male  Underweight    Control\n",
      "6        S007    Male       Normal    Control\n",
      "7        S008    Male       Normal  Treatment\n",
      "8        S009    Male       Normal  Treatment\n",
      "9        S010    Male       Normal  Treatment\n",
      "10       S011    Male       Normal    Control\n",
      "11       S012    Male       Normal    Control\n",
      "12       S013    Male   Overweight    Control\n",
      "13       S014    Male   Overweight    Control\n",
      "14       S015    Male   Overweight  Treatment\n",
      "15       S016    Male   Overweight  Treatment\n",
      "16       S017    Male   Overweight  Treatment\n",
      "17       S018    Male   Overweight    Control\n",
      "18       S019  Female  Underweight    Control\n",
      "19       S020  Female  Underweight  Treatment\n",
      "20       S021  Female  Underweight    Control\n",
      "21       S022  Female  Underweight  Treatment\n",
      "22       S023  Female  Underweight    Control\n",
      "23       S024  Female  Underweight  Treatment\n",
      "24       S025  Female       Normal    Control\n",
      "25       S026  Female       Normal    Control\n",
      "26       S027  Female       Normal  Treatment\n",
      "27       S028  Female       Normal  Treatment\n",
      "28       S029  Female       Normal    Control\n",
      "29       S030  Female       Normal  Treatment\n",
      "30       S031  Female   Overweight  Treatment\n",
      "31       S032  Female   Overweight    Control\n",
      "32       S033  Female   Overweight  Treatment\n",
      "33       S034  Female   Overweight    Control\n",
      "34       S035  Female   Overweight  Treatment\n",
      "35       S036  Female   Overweight    Control\n"
     ]
    }
   ],
   "source": [
    "import random\n",
    "import pandas as pd\n",
    "\n",
    "random.seed(42)\n",
    "n_per_stratum = 6\n",
    "strata_sex = ['Male', 'Female']\n",
    "strata_bmi = ['Underweight', 'Normal', 'Overweight']\n",
    "groups = ['Treatment', 'Control']\n",
    "\n",
    "stratum_combinations = [(sex, bmi) for sex in strata_sex for bmi in strata_bmi]\n",
    "\n",
    "subject_data = []\n",
    "\n",
    "subject_id = 1\n",
    "for sex, bmi in stratum_combinations:\n",
    "    stratum_subjects = [f\"S{subject_id + i:03}\" for i in range(n_per_stratum)]\n",
    "    subject_id += n_per_stratum\n",
    "    \n",
    "    group_assignments = (groups * (n_per_stratum // 2))[:n_per_stratum]\n",
    "    random.shuffle(group_assignments)\n",
    "    \n",
    "    for sid, group in zip(stratum_subjects, group_assignments):\n",
    "        subject_data.append({\n",
    "            'Subject_ID': sid,\n",
    "            'Sex': sex,\n",
    "            'BMI': bmi,\n",
    "            'Group': group\n",
    "        })\n",
    "\n",
    "df = pd.DataFrame(subject_data)\n",
    "print(df)"
   ]
  },
  {
   "cell_type": "code",
   "execution_count": null,
   "id": "11894459-9d4d-4242-bcb1-89a4764e7a68",
   "metadata": {},
   "outputs": [],
   "source": []
  }
 ],
 "metadata": {
  "kernelspec": {
   "display_name": "Python 3",
   "language": "python",
   "name": "python3"
  },
  "language_info": {
   "codemirror_mode": {
    "name": "ipython",
    "version": 3
   },
   "file_extension": ".py",
   "mimetype": "text/x-python",
   "name": "python",
   "nbconvert_exporter": "python",
   "pygments_lexer": "ipython3",
   "version": "3.8.0"
  }
 },
 "nbformat": 4,
 "nbformat_minor": 5
}
