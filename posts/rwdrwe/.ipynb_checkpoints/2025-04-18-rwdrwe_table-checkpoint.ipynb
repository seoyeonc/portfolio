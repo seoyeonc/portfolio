{
 "cells": [
  {
   "cell_type": "raw",
   "id": "dc991236-5ef4-4826-9ba1-517111448a4f",
   "metadata": {
    "id": "cac470df-29e7-4148-9bbd-d8b9a32fa570",
    "tags": []
   },
   "source": [
    "---\n",
    "title: \"[RWD/RWE] RWD Table with Python\"\n",
    "author: \"SEOYEON CHOI\"\n",
    "date: \"2025-04-18\"\n",
    "---"
   ]
  },
  {
   "cell_type": "markdown",
   "id": "faf9b76a-3c73-4ee2-b46e-8009b9da75cb",
   "metadata": {},
   "source": [
    "# Import"
   ]
  },
  {
   "cell_type": "code",
   "execution_count": 1,
   "id": "3d066eea-44e2-469c-b262-4c4d38c199d4",
   "metadata": {},
   "outputs": [],
   "source": [
    "import pandas as pd\n",
    "import numpy as np\n",
    "from scipy import stats\n",
    "import statsmodels.formula.api as smf"
   ]
  },
  {
   "cell_type": "markdown",
   "id": "57e9cdee-28e3-4af2-9443-21b13ba61267",
   "metadata": {},
   "source": [
    "# Data"
   ]
  },
  {
   "cell_type": "code",
   "execution_count": 2,
   "id": "1e9cd872-1f3c-47ef-bb7c-2e2a7e4d4f4f",
   "metadata": {},
   "outputs": [],
   "source": [
    "np.random.seed(1212)\n",
    "n = 30\n",
    "visit1 = np.random.normal(100, 10, n)\n",
    "visit2 = visit1 + np.random.normal(-5, 5, n)\n",
    "visit3 = visit1 + np.random.normal(-10, 5, n)"
   ]
  },
  {
   "cell_type": "code",
   "execution_count": 3,
   "id": "9e2e8077-a644-4e3c-961c-9a06afe21f28",
   "metadata": {},
   "outputs": [],
   "source": [
    "df = pd.DataFrame({\n",
    "    'Subject': np.arange(1, n + 1),\n",
    "    'Visit1': visit1,\n",
    "    'Visit2': visit2,\n",
    "    'Visit3': visit3\n",
    "})\n",
    "df['Change_V2_V1'] = df['Visit2'] - df['Visit1']\n",
    "df['Change_V3_V1'] = df['Visit3'] - df['Visit1']"
   ]
  },
  {
   "cell_type": "markdown",
   "id": "5cd4cc0f-c5c0-46ea-9584-2f6dad3f4b4c",
   "metadata": {},
   "source": [
    "# Function"
   ]
  },
  {
   "cell_type": "markdown",
   "id": "af7ae44a-fc92-4af9-9303-6f8a6a43b275",
   "metadata": {},
   "source": [
    "> Same as `Univariate of SAS`"
   ]
  },
  {
   "cell_type": "code",
   "execution_count": 4,
   "id": "86878a69-bf35-4a8e-a5b5-27ff4e9d0cbb",
   "metadata": {},
   "outputs": [],
   "source": [
    "def summary_stats(data):\n",
    "    mean = np.mean(data)\n",
    "    sd = np.std(data, ddof=1)\n",
    "    se = stats.sem(data)\n",
    "    ci_low, ci_high = stats.t.interval(0.95, len(data)-1, loc=mean, scale=se)\n",
    "    return round(mean,2), round(sd,2), round(se,2), len(data), f\"({round(ci_low,2)}, {round(ci_high,2)})\""
   ]
  },
  {
   "cell_type": "code",
   "execution_count": 5,
   "id": "e9511121-bb74-4e2b-a1d9-f63f590f6c81",
   "metadata": {},
   "outputs": [],
   "source": [
    "visit_summary = pd.DataFrame([summary_stats(df[col]) for col in ['Visit1', 'Visit2', 'Visit3']],\n",
    "                             columns=['Mean', 'SD', 'SE', 'N', '95% CI'],\n",
    "                             index=['Visit1', 'Visit2', 'Visit3'])"
   ]
  },
  {
   "cell_type": "code",
   "execution_count": 6,
   "id": "672a9ccc-dfc0-4cb8-800c-9237dde5e14d",
   "metadata": {},
   "outputs": [
    {
     "data": {
      "text/html": [
       "<div>\n",
       "<style scoped>\n",
       "    .dataframe tbody tr th:only-of-type {\n",
       "        vertical-align: middle;\n",
       "    }\n",
       "\n",
       "    .dataframe tbody tr th {\n",
       "        vertical-align: top;\n",
       "    }\n",
       "\n",
       "    .dataframe thead th {\n",
       "        text-align: right;\n",
       "    }\n",
       "</style>\n",
       "<table border=\"1\" class=\"dataframe\">\n",
       "  <thead>\n",
       "    <tr style=\"text-align: right;\">\n",
       "      <th></th>\n",
       "      <th>Mean</th>\n",
       "      <th>SD</th>\n",
       "      <th>SE</th>\n",
       "      <th>N</th>\n",
       "      <th>95% CI</th>\n",
       "    </tr>\n",
       "  </thead>\n",
       "  <tbody>\n",
       "    <tr>\n",
       "      <th>Visit1</th>\n",
       "      <td>99.67</td>\n",
       "      <td>7.91</td>\n",
       "      <td>1.44</td>\n",
       "      <td>30</td>\n",
       "      <td>(96.72, 102.62)</td>\n",
       "    </tr>\n",
       "    <tr>\n",
       "      <th>Visit2</th>\n",
       "      <td>94.52</td>\n",
       "      <td>9.08</td>\n",
       "      <td>1.66</td>\n",
       "      <td>30</td>\n",
       "      <td>(91.13, 97.91)</td>\n",
       "    </tr>\n",
       "    <tr>\n",
       "      <th>Visit3</th>\n",
       "      <td>88.33</td>\n",
       "      <td>9.74</td>\n",
       "      <td>1.78</td>\n",
       "      <td>30</td>\n",
       "      <td>(84.69, 91.96)</td>\n",
       "    </tr>\n",
       "  </tbody>\n",
       "</table>\n",
       "</div>"
      ],
      "text/plain": [
       "         Mean    SD    SE   N           95% CI\n",
       "Visit1  99.67  7.91  1.44  30  (96.72, 102.62)\n",
       "Visit2  94.52  9.08  1.66  30   (91.13, 97.91)\n",
       "Visit3  88.33  9.74  1.78  30   (84.69, 91.96)"
      ]
     },
     "execution_count": 6,
     "metadata": {},
     "output_type": "execute_result"
    }
   ],
   "source": [
    "visit_summary"
   ]
  },
  {
   "cell_type": "code",
   "execution_count": 7,
   "id": "a41525d4-1edc-41e0-913a-8656ada22c09",
   "metadata": {},
   "outputs": [],
   "source": [
    "change_summary = pd.DataFrame([summary_stats(df['Change_V2_V1']),\n",
    "                               summary_stats(df['Change_V3_V1'])],\n",
    "                              columns=['Mean', 'SD', 'SE', 'N', '95% CI'],\n",
    "                              index=['Visit2 - Visit1', 'Visit3 - Visit1'])"
   ]
  },
  {
   "cell_type": "code",
   "execution_count": 8,
   "id": "ef16aea3-d3e4-4a8a-90ab-36e30f86bc20",
   "metadata": {},
   "outputs": [
    {
     "data": {
      "text/html": [
       "<div>\n",
       "<style scoped>\n",
       "    .dataframe tbody tr th:only-of-type {\n",
       "        vertical-align: middle;\n",
       "    }\n",
       "\n",
       "    .dataframe tbody tr th {\n",
       "        vertical-align: top;\n",
       "    }\n",
       "\n",
       "    .dataframe thead th {\n",
       "        text-align: right;\n",
       "    }\n",
       "</style>\n",
       "<table border=\"1\" class=\"dataframe\">\n",
       "  <thead>\n",
       "    <tr style=\"text-align: right;\">\n",
       "      <th></th>\n",
       "      <th>Mean</th>\n",
       "      <th>SD</th>\n",
       "      <th>SE</th>\n",
       "      <th>N</th>\n",
       "      <th>95% CI</th>\n",
       "    </tr>\n",
       "  </thead>\n",
       "  <tbody>\n",
       "    <tr>\n",
       "      <th>Visit2 - Visit1</th>\n",
       "      <td>-5.15</td>\n",
       "      <td>4.81</td>\n",
       "      <td>0.88</td>\n",
       "      <td>30</td>\n",
       "      <td>(-6.95, -3.36)</td>\n",
       "    </tr>\n",
       "    <tr>\n",
       "      <th>Visit3 - Visit1</th>\n",
       "      <td>-11.35</td>\n",
       "      <td>5.22</td>\n",
       "      <td>0.95</td>\n",
       "      <td>30</td>\n",
       "      <td>(-13.29, -9.4)</td>\n",
       "    </tr>\n",
       "  </tbody>\n",
       "</table>\n",
       "</div>"
      ],
      "text/plain": [
       "                  Mean    SD    SE   N          95% CI\n",
       "Visit2 - Visit1  -5.15  4.81  0.88  30  (-6.95, -3.36)\n",
       "Visit3 - Visit1 -11.35  5.22  0.95  30  (-13.29, -9.4)"
      ]
     },
     "execution_count": 8,
     "metadata": {},
     "output_type": "execute_result"
    }
   ],
   "source": [
    "change_summary"
   ]
  },
  {
   "cell_type": "markdown",
   "id": "6436a41e-f2dd-4025-be3e-c5069ac9c0cf",
   "metadata": {},
   "source": [
    "> Comparision with SAS"
   ]
  },
  {
   "cell_type": "markdown",
   "id": "5c57c79f-903f-4c66-8bd3-e66a47bbf63b",
   "metadata": {},
   "source": [
    "```SAS \n",
    "PROC TTEST DATA=mydata;\n",
    "  PAIRED Visit2*Visit1;\n",
    "RUN;\n",
    "```"
   ]
  },
  {
   "cell_type": "code",
   "execution_count": 9,
   "id": "e158a76a-25cc-4213-a127-790d05085baa",
   "metadata": {},
   "outputs": [],
   "source": [
    "change_summary['Paired t-test p'] = [round(stats.ttest_rel(df['Visit2'], df['Visit1']).pvalue, 4),\n",
    "                                     round(stats.ttest_rel(df['Visit3'], df['Visit1']).pvalue, 4)]"
   ]
  },
  {
   "cell_type": "code",
   "execution_count": 10,
   "id": "64a449d1-fd70-41a8-a91e-99ffd3af74b3",
   "metadata": {},
   "outputs": [
    {
     "data": {
      "text/html": [
       "<div>\n",
       "<style scoped>\n",
       "    .dataframe tbody tr th:only-of-type {\n",
       "        vertical-align: middle;\n",
       "    }\n",
       "\n",
       "    .dataframe tbody tr th {\n",
       "        vertical-align: top;\n",
       "    }\n",
       "\n",
       "    .dataframe thead th {\n",
       "        text-align: right;\n",
       "    }\n",
       "</style>\n",
       "<table border=\"1\" class=\"dataframe\">\n",
       "  <thead>\n",
       "    <tr style=\"text-align: right;\">\n",
       "      <th></th>\n",
       "      <th>Mean</th>\n",
       "      <th>SD</th>\n",
       "      <th>SE</th>\n",
       "      <th>N</th>\n",
       "      <th>95% CI</th>\n",
       "      <th>Paired t-test p</th>\n",
       "    </tr>\n",
       "  </thead>\n",
       "  <tbody>\n",
       "    <tr>\n",
       "      <th>Visit2 - Visit1</th>\n",
       "      <td>-5.15</td>\n",
       "      <td>4.81</td>\n",
       "      <td>0.88</td>\n",
       "      <td>30</td>\n",
       "      <td>(-6.95, -3.36)</td>\n",
       "      <td>0.0</td>\n",
       "    </tr>\n",
       "    <tr>\n",
       "      <th>Visit3 - Visit1</th>\n",
       "      <td>-11.35</td>\n",
       "      <td>5.22</td>\n",
       "      <td>0.95</td>\n",
       "      <td>30</td>\n",
       "      <td>(-13.29, -9.4)</td>\n",
       "      <td>0.0</td>\n",
       "    </tr>\n",
       "  </tbody>\n",
       "</table>\n",
       "</div>"
      ],
      "text/plain": [
       "                  Mean    SD    SE   N          95% CI  Paired t-test p\n",
       "Visit2 - Visit1  -5.15  4.81  0.88  30  (-6.95, -3.36)              0.0\n",
       "Visit3 - Visit1 -11.35  5.22  0.95  30  (-13.29, -9.4)              0.0"
      ]
     },
     "execution_count": 10,
     "metadata": {},
     "output_type": "execute_result"
    }
   ],
   "source": [
    "change_summary"
   ]
  },
  {
   "cell_type": "markdown",
   "id": "e7b65f51-a49f-43ad-9d1c-c255b2899479",
   "metadata": {},
   "source": [
    "```SAS\n",
    "PROC TTEST DATA=mydata H0=0;\n",
    "  VAR change_value;\n",
    "RUN;\n",
    "```"
   ]
  },
  {
   "cell_type": "code",
   "execution_count": 11,
   "id": "6d760641-e753-4446-8eb8-474988d2b72a",
   "metadata": {},
   "outputs": [],
   "source": [
    "change_summary['One-sample t-test p'] = [round(stats.ttest_1samp(df['Change_V2_V1'], 0).pvalue, 4),\n",
    "                                         round(stats.ttest_1samp(df['Change_V3_V1'], 0).pvalue, 4)]"
   ]
  },
  {
   "cell_type": "code",
   "execution_count": 12,
   "id": "e0fe0843-4f51-4461-b00c-663b182ddd13",
   "metadata": {},
   "outputs": [
    {
     "data": {
      "text/html": [
       "<div>\n",
       "<style scoped>\n",
       "    .dataframe tbody tr th:only-of-type {\n",
       "        vertical-align: middle;\n",
       "    }\n",
       "\n",
       "    .dataframe tbody tr th {\n",
       "        vertical-align: top;\n",
       "    }\n",
       "\n",
       "    .dataframe thead th {\n",
       "        text-align: right;\n",
       "    }\n",
       "</style>\n",
       "<table border=\"1\" class=\"dataframe\">\n",
       "  <thead>\n",
       "    <tr style=\"text-align: right;\">\n",
       "      <th></th>\n",
       "      <th>Mean</th>\n",
       "      <th>SD</th>\n",
       "      <th>SE</th>\n",
       "      <th>N</th>\n",
       "      <th>95% CI</th>\n",
       "      <th>Paired t-test p</th>\n",
       "      <th>One-sample t-test p</th>\n",
       "    </tr>\n",
       "  </thead>\n",
       "  <tbody>\n",
       "    <tr>\n",
       "      <th>Visit2 - Visit1</th>\n",
       "      <td>-5.15</td>\n",
       "      <td>4.81</td>\n",
       "      <td>0.88</td>\n",
       "      <td>30</td>\n",
       "      <td>(-6.95, -3.36)</td>\n",
       "      <td>0.0</td>\n",
       "      <td>0.0</td>\n",
       "    </tr>\n",
       "    <tr>\n",
       "      <th>Visit3 - Visit1</th>\n",
       "      <td>-11.35</td>\n",
       "      <td>5.22</td>\n",
       "      <td>0.95</td>\n",
       "      <td>30</td>\n",
       "      <td>(-13.29, -9.4)</td>\n",
       "      <td>0.0</td>\n",
       "      <td>0.0</td>\n",
       "    </tr>\n",
       "  </tbody>\n",
       "</table>\n",
       "</div>"
      ],
      "text/plain": [
       "                  Mean    SD    SE   N          95% CI  Paired t-test p  \\\n",
       "Visit2 - Visit1  -5.15  4.81  0.88  30  (-6.95, -3.36)              0.0   \n",
       "Visit3 - Visit1 -11.35  5.22  0.95  30  (-13.29, -9.4)              0.0   \n",
       "\n",
       "                 One-sample t-test p  \n",
       "Visit2 - Visit1                  0.0  \n",
       "Visit3 - Visit1                  0.0  "
      ]
     },
     "execution_count": 12,
     "metadata": {},
     "output_type": "execute_result"
    }
   ],
   "source": [
    "change_summary"
   ]
  },
  {
   "cell_type": "code",
   "execution_count": 13,
   "id": "87c3a0d5-827a-45d5-a3da-57d5d0fee1a3",
   "metadata": {},
   "outputs": [],
   "source": [
    "df_long = pd.melt(df, id_vars='Subject', value_vars=['Visit1', 'Visit2', 'Visit3'],\n",
    "                  var_name='Visit', value_name='Score')"
   ]
  },
  {
   "cell_type": "code",
   "execution_count": 14,
   "id": "81a3451b-3ac2-43ff-a060-ad139255ac61",
   "metadata": {},
   "outputs": [
    {
     "data": {
      "text/html": [
       "<div>\n",
       "<style scoped>\n",
       "    .dataframe tbody tr th:only-of-type {\n",
       "        vertical-align: middle;\n",
       "    }\n",
       "\n",
       "    .dataframe tbody tr th {\n",
       "        vertical-align: top;\n",
       "    }\n",
       "\n",
       "    .dataframe thead th {\n",
       "        text-align: right;\n",
       "    }\n",
       "</style>\n",
       "<table border=\"1\" class=\"dataframe\">\n",
       "  <thead>\n",
       "    <tr style=\"text-align: right;\">\n",
       "      <th></th>\n",
       "      <th>Subject</th>\n",
       "      <th>Visit</th>\n",
       "      <th>Score</th>\n",
       "    </tr>\n",
       "  </thead>\n",
       "  <tbody>\n",
       "    <tr>\n",
       "      <th>0</th>\n",
       "      <td>1</td>\n",
       "      <td>Visit1</td>\n",
       "      <td>107.373521</td>\n",
       "    </tr>\n",
       "    <tr>\n",
       "      <th>1</th>\n",
       "      <td>2</td>\n",
       "      <td>Visit1</td>\n",
       "      <td>93.827029</td>\n",
       "    </tr>\n",
       "    <tr>\n",
       "      <th>2</th>\n",
       "      <td>3</td>\n",
       "      <td>Visit1</td>\n",
       "      <td>104.629304</td>\n",
       "    </tr>\n",
       "    <tr>\n",
       "      <th>3</th>\n",
       "      <td>4</td>\n",
       "      <td>Visit1</td>\n",
       "      <td>96.558097</td>\n",
       "    </tr>\n",
       "    <tr>\n",
       "      <th>4</th>\n",
       "      <td>5</td>\n",
       "      <td>Visit1</td>\n",
       "      <td>109.795635</td>\n",
       "    </tr>\n",
       "    <tr>\n",
       "      <th>...</th>\n",
       "      <td>...</td>\n",
       "      <td>...</td>\n",
       "      <td>...</td>\n",
       "    </tr>\n",
       "    <tr>\n",
       "      <th>85</th>\n",
       "      <td>26</td>\n",
       "      <td>Visit3</td>\n",
       "      <td>98.156855</td>\n",
       "    </tr>\n",
       "    <tr>\n",
       "      <th>86</th>\n",
       "      <td>27</td>\n",
       "      <td>Visit3</td>\n",
       "      <td>87.828647</td>\n",
       "    </tr>\n",
       "    <tr>\n",
       "      <th>87</th>\n",
       "      <td>28</td>\n",
       "      <td>Visit3</td>\n",
       "      <td>87.818170</td>\n",
       "    </tr>\n",
       "    <tr>\n",
       "      <th>88</th>\n",
       "      <td>29</td>\n",
       "      <td>Visit3</td>\n",
       "      <td>95.441655</td>\n",
       "    </tr>\n",
       "    <tr>\n",
       "      <th>89</th>\n",
       "      <td>30</td>\n",
       "      <td>Visit3</td>\n",
       "      <td>72.320460</td>\n",
       "    </tr>\n",
       "  </tbody>\n",
       "</table>\n",
       "<p>90 rows × 3 columns</p>\n",
       "</div>"
      ],
      "text/plain": [
       "    Subject   Visit       Score\n",
       "0         1  Visit1  107.373521\n",
       "1         2  Visit1   93.827029\n",
       "2         3  Visit1  104.629304\n",
       "3         4  Visit1   96.558097\n",
       "4         5  Visit1  109.795635\n",
       "..      ...     ...         ...\n",
       "85       26  Visit3   98.156855\n",
       "86       27  Visit3   87.828647\n",
       "87       28  Visit3   87.818170\n",
       "88       29  Visit3   95.441655\n",
       "89       30  Visit3   72.320460\n",
       "\n",
       "[90 rows x 3 columns]"
      ]
     },
     "execution_count": 14,
     "metadata": {},
     "output_type": "execute_result"
    }
   ],
   "source": [
    "df_long"
   ]
  },
  {
   "cell_type": "code",
   "execution_count": 15,
   "id": "f5caaddf-618c-47fa-8e33-ac2b64649c68",
   "metadata": {},
   "outputs": [
    {
     "data": {
      "text/html": [
       "<div>\n",
       "<style scoped>\n",
       "    .dataframe tbody tr th:only-of-type {\n",
       "        vertical-align: middle;\n",
       "    }\n",
       "\n",
       "    .dataframe tbody tr th {\n",
       "        vertical-align: top;\n",
       "    }\n",
       "\n",
       "    .dataframe thead th {\n",
       "        text-align: right;\n",
       "    }\n",
       "</style>\n",
       "<table border=\"1\" class=\"dataframe\">\n",
       "  <thead>\n",
       "    <tr style=\"text-align: right;\">\n",
       "      <th></th>\n",
       "      <th>Subject</th>\n",
       "      <th>Visit</th>\n",
       "      <th>Score</th>\n",
       "    </tr>\n",
       "  </thead>\n",
       "  <tbody>\n",
       "    <tr>\n",
       "      <th>0</th>\n",
       "      <td>1</td>\n",
       "      <td>1</td>\n",
       "      <td>107.373521</td>\n",
       "    </tr>\n",
       "    <tr>\n",
       "      <th>1</th>\n",
       "      <td>2</td>\n",
       "      <td>1</td>\n",
       "      <td>93.827029</td>\n",
       "    </tr>\n",
       "    <tr>\n",
       "      <th>2</th>\n",
       "      <td>3</td>\n",
       "      <td>1</td>\n",
       "      <td>104.629304</td>\n",
       "    </tr>\n",
       "    <tr>\n",
       "      <th>3</th>\n",
       "      <td>4</td>\n",
       "      <td>1</td>\n",
       "      <td>96.558097</td>\n",
       "    </tr>\n",
       "    <tr>\n",
       "      <th>4</th>\n",
       "      <td>5</td>\n",
       "      <td>1</td>\n",
       "      <td>109.795635</td>\n",
       "    </tr>\n",
       "    <tr>\n",
       "      <th>...</th>\n",
       "      <td>...</td>\n",
       "      <td>...</td>\n",
       "      <td>...</td>\n",
       "    </tr>\n",
       "    <tr>\n",
       "      <th>85</th>\n",
       "      <td>26</td>\n",
       "      <td>3</td>\n",
       "      <td>98.156855</td>\n",
       "    </tr>\n",
       "    <tr>\n",
       "      <th>86</th>\n",
       "      <td>27</td>\n",
       "      <td>3</td>\n",
       "      <td>87.828647</td>\n",
       "    </tr>\n",
       "    <tr>\n",
       "      <th>87</th>\n",
       "      <td>28</td>\n",
       "      <td>3</td>\n",
       "      <td>87.818170</td>\n",
       "    </tr>\n",
       "    <tr>\n",
       "      <th>88</th>\n",
       "      <td>29</td>\n",
       "      <td>3</td>\n",
       "      <td>95.441655</td>\n",
       "    </tr>\n",
       "    <tr>\n",
       "      <th>89</th>\n",
       "      <td>30</td>\n",
       "      <td>3</td>\n",
       "      <td>72.320460</td>\n",
       "    </tr>\n",
       "  </tbody>\n",
       "</table>\n",
       "<p>90 rows × 3 columns</p>\n",
       "</div>"
      ],
      "text/plain": [
       "    Subject  Visit       Score\n",
       "0         1      1  107.373521\n",
       "1         2      1   93.827029\n",
       "2         3      1  104.629304\n",
       "3         4      1   96.558097\n",
       "4         5      1  109.795635\n",
       "..      ...    ...         ...\n",
       "85       26      3   98.156855\n",
       "86       27      3   87.828647\n",
       "87       28      3   87.818170\n",
       "88       29      3   95.441655\n",
       "89       30      3   72.320460\n",
       "\n",
       "[90 rows x 3 columns]"
      ]
     },
     "execution_count": 15,
     "metadata": {},
     "output_type": "execute_result"
    }
   ],
   "source": [
    "df_long['Visit'] = df_long['Visit'].map({'Visit1': 1, 'Visit2': 2, 'Visit3': 3})\n",
    "df_long"
   ]
  },
  {
   "cell_type": "markdown",
   "id": "f8926d96-9145-40e6-9ddc-204ad3a49493",
   "metadata": {},
   "source": [
    "# Mixed Model"
   ]
  },
  {
   "cell_type": "markdown",
   "id": "03f6a592-aea1-466b-b4ef-304bc4a9e350",
   "metadata": {},
   "source": [
    "> Same as Proc "
   ]
  },
  {
   "cell_type": "code",
   "execution_count": 16,
   "id": "4c00517e-1327-46f9-be66-d6ab52f3555b",
   "metadata": {},
   "outputs": [
    {
     "data": {
      "text/plain": [
       "<statsmodels.regression.mixed_linear_model.MixedLMResultsWrapper at 0x7f9ddb066a90>"
      ]
     },
     "execution_count": 16,
     "metadata": {},
     "output_type": "execute_result"
    }
   ],
   "source": [
    "model = smf.mixedlm(\"Score ~ Visit\", df_long, groups=df_long[\"Subject\"]).fit()\n",
    "model"
   ]
  },
  {
   "cell_type": "code",
   "execution_count": 17,
   "id": "fb271386-6640-49c9-a5f4-565f06976876",
   "metadata": {},
   "outputs": [
    {
     "data": {
      "text/plain": [
       "9.562865213858627e-24"
      ]
     },
     "execution_count": 17,
     "metadata": {},
     "output_type": "execute_result"
    }
   ],
   "source": [
    "model.pvalues['Visit']"
   ]
  },
  {
   "cell_type": "code",
   "execution_count": 18,
   "id": "377edf41-c1cc-445a-b2fe-aead07cde28c",
   "metadata": {},
   "outputs": [
    {
     "data": {
      "text/plain": [
       "0.0"
      ]
     },
     "execution_count": 18,
     "metadata": {},
     "output_type": "execute_result"
    }
   ],
   "source": [
    "mixed_model_pvalue = round(model.pvalues['Visit'], 4)\n",
    "mixed_model_pvalue"
   ]
  },
  {
   "cell_type": "code",
   "execution_count": 19,
   "id": "9bee3e48-96e3-49d4-bfb2-add32fef8b96",
   "metadata": {},
   "outputs": [],
   "source": [
    "visit_summary['Type'] = 'Visit'\n",
    "change_summary['Type'] = 'Change'"
   ]
  },
  {
   "cell_type": "code",
   "execution_count": 20,
   "id": "22a2f3c6-5e05-4c14-982d-65aa9470f6b8",
   "metadata": {},
   "outputs": [],
   "source": [
    "summary_combined = pd.concat([visit_summary, change_summary])\n",
    "summary_combined['Repeated Mixed Model p'] = ''\n",
    "summary_combined.loc['Visit1', 'Repeated Mixed Model p'] = mixed_model_pvalue"
   ]
  },
  {
   "cell_type": "code",
   "execution_count": 21,
   "id": "16c9004e-9b01-4aa6-9721-c87237b933c2",
   "metadata": {},
   "outputs": [],
   "source": [
    "summary_combined.reset_index(inplace=True)\n",
    "summary_combined.rename(columns={'index': 'Comparison'}, inplace=True)"
   ]
  },
  {
   "cell_type": "code",
   "execution_count": 22,
   "id": "a397d2b7-c9df-4100-97f7-ee4a44bbec27",
   "metadata": {},
   "outputs": [
    {
     "data": {
      "text/html": [
       "<div>\n",
       "<style scoped>\n",
       "    .dataframe tbody tr th:only-of-type {\n",
       "        vertical-align: middle;\n",
       "    }\n",
       "\n",
       "    .dataframe tbody tr th {\n",
       "        vertical-align: top;\n",
       "    }\n",
       "\n",
       "    .dataframe thead th {\n",
       "        text-align: right;\n",
       "    }\n",
       "</style>\n",
       "<table border=\"1\" class=\"dataframe\">\n",
       "  <thead>\n",
       "    <tr style=\"text-align: right;\">\n",
       "      <th></th>\n",
       "      <th>Comparison</th>\n",
       "      <th>Mean</th>\n",
       "      <th>SD</th>\n",
       "      <th>SE</th>\n",
       "      <th>N</th>\n",
       "      <th>95% CI</th>\n",
       "      <th>Type</th>\n",
       "      <th>Paired t-test p</th>\n",
       "      <th>One-sample t-test p</th>\n",
       "      <th>Repeated Mixed Model p</th>\n",
       "    </tr>\n",
       "  </thead>\n",
       "  <tbody>\n",
       "    <tr>\n",
       "      <th>0</th>\n",
       "      <td>Visit1</td>\n",
       "      <td>99.67</td>\n",
       "      <td>7.91</td>\n",
       "      <td>1.44</td>\n",
       "      <td>30</td>\n",
       "      <td>(96.72, 102.62)</td>\n",
       "      <td>Visit</td>\n",
       "      <td>NaN</td>\n",
       "      <td>NaN</td>\n",
       "      <td>0.0</td>\n",
       "    </tr>\n",
       "    <tr>\n",
       "      <th>1</th>\n",
       "      <td>Visit2</td>\n",
       "      <td>94.52</td>\n",
       "      <td>9.08</td>\n",
       "      <td>1.66</td>\n",
       "      <td>30</td>\n",
       "      <td>(91.13, 97.91)</td>\n",
       "      <td>Visit</td>\n",
       "      <td>NaN</td>\n",
       "      <td>NaN</td>\n",
       "      <td></td>\n",
       "    </tr>\n",
       "    <tr>\n",
       "      <th>2</th>\n",
       "      <td>Visit3</td>\n",
       "      <td>88.33</td>\n",
       "      <td>9.74</td>\n",
       "      <td>1.78</td>\n",
       "      <td>30</td>\n",
       "      <td>(84.69, 91.96)</td>\n",
       "      <td>Visit</td>\n",
       "      <td>NaN</td>\n",
       "      <td>NaN</td>\n",
       "      <td></td>\n",
       "    </tr>\n",
       "    <tr>\n",
       "      <th>3</th>\n",
       "      <td>Visit2 - Visit1</td>\n",
       "      <td>-5.15</td>\n",
       "      <td>4.81</td>\n",
       "      <td>0.88</td>\n",
       "      <td>30</td>\n",
       "      <td>(-6.95, -3.36)</td>\n",
       "      <td>Change</td>\n",
       "      <td>0.0</td>\n",
       "      <td>0.0</td>\n",
       "      <td></td>\n",
       "    </tr>\n",
       "    <tr>\n",
       "      <th>4</th>\n",
       "      <td>Visit3 - Visit1</td>\n",
       "      <td>-11.35</td>\n",
       "      <td>5.22</td>\n",
       "      <td>0.95</td>\n",
       "      <td>30</td>\n",
       "      <td>(-13.29, -9.4)</td>\n",
       "      <td>Change</td>\n",
       "      <td>0.0</td>\n",
       "      <td>0.0</td>\n",
       "      <td></td>\n",
       "    </tr>\n",
       "  </tbody>\n",
       "</table>\n",
       "</div>"
      ],
      "text/plain": [
       "        Comparison   Mean    SD    SE   N           95% CI    Type  \\\n",
       "0           Visit1  99.67  7.91  1.44  30  (96.72, 102.62)   Visit   \n",
       "1           Visit2  94.52  9.08  1.66  30   (91.13, 97.91)   Visit   \n",
       "2           Visit3  88.33  9.74  1.78  30   (84.69, 91.96)   Visit   \n",
       "3  Visit2 - Visit1  -5.15  4.81  0.88  30   (-6.95, -3.36)  Change   \n",
       "4  Visit3 - Visit1 -11.35  5.22  0.95  30   (-13.29, -9.4)  Change   \n",
       "\n",
       "   Paired t-test p  One-sample t-test p Repeated Mixed Model p  \n",
       "0              NaN                  NaN                    0.0  \n",
       "1              NaN                  NaN                         \n",
       "2              NaN                  NaN                         \n",
       "3              0.0                  0.0                         \n",
       "4              0.0                  0.0                         "
      ]
     },
     "execution_count": 22,
     "metadata": {},
     "output_type": "execute_result"
    }
   ],
   "source": [
    "summary_combined"
   ]
  },
  {
   "cell_type": "code",
   "execution_count": null,
   "id": "605dad28-9cdf-42f1-a4be-f014ece93569",
   "metadata": {},
   "outputs": [],
   "source": []
  },
  {
   "cell_type": "code",
   "execution_count": null,
   "id": "9316a65e-2f32-4cd9-82fe-3fcb5315d6d6",
   "metadata": {},
   "outputs": [],
   "source": []
  }
 ],
 "metadata": {
  "kernelspec": {
   "display_name": "Python 3",
   "language": "python",
   "name": "python3"
  },
  "language_info": {
   "codemirror_mode": {
    "name": "ipython",
    "version": 3
   },
   "file_extension": ".py",
   "mimetype": "text/x-python",
   "name": "python",
   "nbconvert_exporter": "python",
   "pygments_lexer": "ipython3",
   "version": "3.8.0"
  }
 },
 "nbformat": 4,
 "nbformat_minor": 5
}
