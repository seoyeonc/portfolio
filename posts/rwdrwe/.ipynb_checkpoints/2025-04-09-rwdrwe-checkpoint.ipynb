{
 "cells": [
  {
   "cell_type": "raw",
   "id": "e0cc2625-8d5c-423a-92d3-db254c2df7eb",
   "metadata": {
    "id": "cac470df-29e7-4148-9bbd-d8b9a32fa570",
    "tags": []
   },
   "source": [
    "---\n",
    "title: \"[RWD/RWE] RWD Graph with R\"\n",
    "author: \"SEOYEON CHOI\"\n",
    "date: \"2025-04-09\"\n",
    "---"
   ]
  },
  {
   "cell_type": "markdown",
   "id": "40cd0f7d-5f76-4009-a6e5-501c0d744839",
   "metadata": {},
   "source": [
    "# Import"
   ]
  },
  {
   "cell_type": "code",
   "execution_count": 1,
   "id": "7411f0c4-3806-4911-b85c-e2db47624a10",
   "metadata": {},
   "outputs": [],
   "source": [
    "library(ggplot2)"
   ]
  },
  {
   "cell_type": "markdown",
   "id": "9a146726-58bd-408e-8ea8-d6f90ec3616b",
   "metadata": {},
   "source": [
    "# Data"
   ]
  },
  {
   "cell_type": "code",
   "execution_count": 2,
   "id": "dc8753e1-bc5f-4666-b940-15346536ecd2",
   "metadata": {},
   "outputs": [],
   "source": [
    "data <- data.frame(\n",
    "  Visit = c(\"Visit 2\", \"Visit 3\"),\n",
    "  MeanChange = c(-5.2, -7.8),\n",
    "  SD = c(1.1, 1.5)\n",
    ")"
   ]
  },
  {
   "cell_type": "markdown",
   "id": "8853cfbd-70a8-4e71-807c-5a5232be5609",
   "metadata": {},
   "source": [
    "# Figure"
   ]
  },
  {
   "cell_type": "code",
   "execution_count": 3,
   "id": "d2e7e24f-a6c0-4c62-be93-8fee6f0f03cd",
   "metadata": {},
   "outputs": [],
   "source": [
    "data$ymin <- data$MeanChange - data$SD\n",
    "data$ymax <- data$MeanChange"
   ]
  },
  {
   "cell_type": "code",
   "execution_count": 4,
   "id": "7fa7fae4-2d4b-477e-8eb0-1af2c820e800",
   "metadata": {},
   "outputs": [],
   "source": [
    "p <- ggplot(data, aes(x = Visit, y = MeanChange)) +\n",
    "  geom_bar(stat = \"identity\", fill = \"grey60\", width = 0.6, color = \"black\") +\n",
    "  geom_errorbar(aes(ymin = ymin, ymax = ymax), width = 0.2, color = \"grey30\") +\n",
    "  labs(title = \"Mean Decrease with SD (Lower Bound)\",\n",
    "       y = \"Mean Decrease\", x = \"\") +\n",
    "  theme_minimal(base_family = \"sans\") +\n",
    "  theme(\n",
    "    panel.background = element_rect(fill = \"transparent\", color = NA),\n",
    "    plot.background = element_rect(fill = \"transparent\", color = NA),\n",
    "    panel.grid.major = element_line(color = \"grey80\"),\n",
    "    panel.grid.minor = element_blank(),\n",
    "    axis.text = element_text(color = \"grey30\"),\n",
    "    axis.title = element_text(color = \"grey30\"),\n",
    "    plot.title = element_text(color = \"grey30\", face = \"bold\", hjust = 0.5)\n",
    "  )"
   ]
  },
  {
   "cell_type": "markdown",
   "id": "af911e7c-652c-404c-b278-674c8872b6fb",
   "metadata": {},
   "source": [
    "# Graph"
   ]
  },
  {
   "cell_type": "code",
   "execution_count": 5,
   "id": "2375167c-3741-4ef1-bb80-ef0073208e9f",
   "metadata": {},
   "outputs": [
    {
     "data": {
      "image/png": "[encoded data removed]",
      "text/plain": [
       "plot without title"
      ]
     },
     "metadata": {
      "image/png": {
       "height": 420,
       "width": 420
      }
     },
     "output_type": "display_data"
    }
   ],
   "source": [
    "p"
   ]
  },
  {
   "cell_type": "markdown",
   "id": "0d5cb394-5b72-46bf-8f4b-d1e50aa44ae8",
   "metadata": {},
   "source": [
    "# Save"
   ]
  },
  {
   "cell_type": "code",
   "execution_count": 6,
   "id": "6e4fccd3-e9bd-44f5-b15a-edaa491c21a9",
   "metadata": {},
   "outputs": [],
   "source": [
    "# ggsave(\"plot.png\", p, bg = \"transparent\", width = 6, height = 4, dpi = 300)"
   ]
  }
 ],
 "metadata": {
  "kernelspec": {
   "display_name": "R",
   "language": "R",
   "name": "ir"
  },
  "language_info": {
   "codemirror_mode": "r",
   "file_extension": ".r",
   "mimetype": "text/x-r-source",
   "name": "R",
   "pygments_lexer": "r",
   "version": "4.3.0"
  }
 },
 "nbformat": 4,
 "nbformat_minor": 5
}
