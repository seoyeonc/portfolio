{
 "cells": [
  {
   "cell_type": "raw",
   "id": "e0cc2625-8d5c-423a-92d3-db254c2df7eb",
   "metadata": {
    "id": "cac470df-29e7-4148-9bbd-d8b9a32fa570",
    "tags": []
   },
   "source": [
    "---\n",
    "title: \"[Program] Mixed model\"\n",
    "author: \"SEOYEON CHOI\"\n",
    "date: \"2025-04-09\"\n",
    "---"
   ]
  },
  {
   "cell_type": "markdown",
   "id": "ecdd0946-f015-4fea-92bc-7141ce5a3489",
   "metadata": {},
   "source": [
    "dd"
   ]
  },
  {
   "cell_type": "code",
   "execution_count": null,
   "id": "256294f1-9c6e-4e87-9c11-9a5cf19507d5",
   "metadata": {},
   "outputs": [],
   "source": []
  }
 ],
 "metadata": {
  "kernelspec": {
   "display_name": "R",
   "language": "R",
   "name": "ir"
  },
  "language_info": {
   "codemirror_mode": "r",
   "file_extension": ".r",
   "mimetype": "text/x-r-source",
   "name": "R",
   "pygments_lexer": "r",
   "version": "4.3.0"
  }
 },
 "nbformat": 4,
 "nbformat_minor": 5
}
