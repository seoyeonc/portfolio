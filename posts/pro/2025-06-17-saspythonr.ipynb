{
 "cells": [
  {
   "cell_type": "raw",
   "id": "fc3499d3-e5f6-4d7e-8e3b-871e7affd8c5",
   "metadata": {
    "id": "cac470df-29e7-4148-9bbd-d8b9a32fa570",
    "tags": []
   },
   "source": [
    "---\n",
    "title: \"[Program] SAS vs Python vs R\"\n",
    "author: \"SEOYEON CHOI\"\n",
    "date: \"2025-06-17\"\n",
    "---"
   ]
  },
  {
   "cell_type": "markdown",
   "id": "f4446d34-2473-4cca-ab9e-c3ae8647253c",
   "metadata": {},
   "source": [
    "# Basic Definition"
   ]
  },
  {
   "cell_type": "markdown",
   "id": "557c1a5c-9678-4df7-b3c5-83cd6d0e3883",
   "metadata": {},
   "source": [
    "| 통계량      | 기호        | 수식                                                  |\n",
    "| -------- | --------- | --------------------------------------------------- |\n",
    "| 평균       | $\\bar{x}$ | $\\frac{1}{n} \\sum x_i$                              |\n",
    "| 분산       | $s^2$     | $\\frac{1}{n-1} \\sum (x_i - \\bar{x})^2$              |\n",
    "| 표준편차     | $s$       | $\\sqrt{s^2}$                                        |\n",
    "| 변동계수     | $CV$      | $\\frac{s}{\\bar{x}} \\times 100\\%$                    |\n",
    "| 95% 신뢰구간 | CI        | $\\bar{x} \\pm t_{\\alpha/2} \\cdot \\frac{s}{\\sqrt{n}}$ |\n"
   ]
  },
  {
   "cell_type": "markdown",
   "id": "38d6f376-3a37-4bc4-a59f-7b57a8e1b72d",
   "metadata": {},
   "source": [
    "# Import"
   ]
  },
  {
   "cell_type": "markdown",
   "id": "61e85e1b-750c-4ddb-80d4-fe33047a7090",
   "metadata": {},
   "source": [
    "- python"
   ]
  },
  {
   "cell_type": "code",
   "execution_count": 100,
   "id": "6a491b5c-1f09-4e9f-a878-a24aa70d3c5e",
   "metadata": {},
   "outputs": [],
   "source": [
    "import pandas as pd"
   ]
  },
  {
   "cell_type": "markdown",
   "id": "5d7c24cf-2573-40c9-8326-12b698090c74",
   "metadata": {},
   "source": [
    "- R"
   ]
  },
  {
   "cell_type": "code",
   "execution_count": 101,
   "id": "ab240b7f-ce9f-4d14-bfe9-06a023748ba0",
   "metadata": {},
   "outputs": [],
   "source": [
    "import rpy2"
   ]
  },
  {
   "cell_type": "code",
   "execution_count": 102,
   "id": "dcfde0b4-9b75-474a-bb22-c154252f2902",
   "metadata": {},
   "outputs": [
    {
     "name": "stdout",
     "output_type": "stream",
     "text": [
      "The rpy2.ipython extension is already loaded. To reload it, use:\n",
      "  %reload_ext rpy2.ipython\n"
     ]
    }
   ],
   "source": [
    "%load_ext rpy2.ipython"
   ]
  },
  {
   "cell_type": "markdown",
   "id": "9b2d2885-44c6-4461-8397-401ab11ab07d",
   "metadata": {},
   "source": [
    "# Data"
   ]
  },
  {
   "cell_type": "markdown",
   "id": "ba1afdaa-8886-4807-9787-4ea3e3e64ef3",
   "metadata": {},
   "source": [
    "[ref](https://www.kaggle.com/datasets/uom190346a/sleep-health-and-lifestyle-dataset)"
   ]
  },
  {
   "cell_type": "markdown",
   "id": "81a5f783-a7d3-4be4-82ac-cec99aebe3ed",
   "metadata": {},
   "source": [
    "| 변수명 | 설명 |\n",
    "|--------|------|\n",
    "| **Person ID** | 각 개인을 식별하기 위한 고유 식별자입니다. |\n",
    "| **Gender** | 개인의 성별을 나타냅니다. <br>값: `Male`, `Female` |\n",
    "| **Age** | 개인의 나이(연령)를 년 단위로 나타냅니다. |\n",
    "| **Occupation** | 개인의 직업 또는 직무 유형을 나타냅니다. |\n",
    "| **Sleep Duration (hours)** | 하루 평균 수면 시간 (단위: 시간) |\n",
    "| **Quality of Sleep (scale: 1-10)** | 수면의 질을 1~10 척도로 평가한 값입니다. <br>1: 매우 나쁨, 10: 매우 좋음 |\n",
    "| **Physical Activity Level (minutes/day)** | 하루 평균 신체 활동 시간 (단위: 분) |\n",
    "| **Stress Level (scale: 1-10)** | 스트레스 수준을 1~10 척도로 평가한 값입니다. <br>1: 매우 낮음, 10: 매우 높음 |\n",
    "| **BMI Category** | 체질량지수(BMI)에 따른 분류 <br>값 예시: `Underweight`, `Normal`, `Overweight` |\n",
    "| **Blood Pressure (systolic/diastolic)** | 혈압 수치로, `수축기/이완기` 형식 (예: `120/80`) |\n",
    "| **Heart Rate (bpm)** | 안정 시 심박수 (단위: bpm, beats per minute) |\n",
    "| **Daily Steps** | 하루 동안 걸은 총 걸음 수 |\n",
    "| **Sleep Disorder** | 수면 장애 여부 및 유형 |\n",
    "| &nbsp; | - `None`: 수면 장애 없음 |\n",
    "| &nbsp; | - `Insomnia`: 불면증 |\n",
    "| &nbsp; | - `Sleep Apnea`: 수면 무호흡증 |"
   ]
  },
  {
   "cell_type": "code",
   "execution_count": 103,
   "id": "4e8874a7-f3e8-4969-9a25-03443e846a7f",
   "metadata": {},
   "outputs": [],
   "source": [
    "df = pd.read_csv('../../../../delete/Sleep_health_and_lifestyle_dataset.csv')"
   ]
  },
  {
   "cell_type": "code",
   "execution_count": 104,
   "id": "1d424668-6594-4252-944d-0650fca5f511",
   "metadata": {},
   "outputs": [
    {
     "data": {
      "text/html": [
       "<div>\n",
       "<style scoped>\n",
       "    .dataframe tbody tr th:only-of-type {\n",
       "        vertical-align: middle;\n",
       "    }\n",
       "\n",
       "    .dataframe tbody tr th {\n",
       "        vertical-align: top;\n",
       "    }\n",
       "\n",
       "    .dataframe thead th {\n",
       "        text-align: right;\n",
       "    }\n",
       "</style>\n",
       "<table border=\"1\" class=\"dataframe\">\n",
       "  <thead>\n",
       "    <tr style=\"text-align: right;\">\n",
       "      <th></th>\n",
       "      <th>Person ID</th>\n",
       "      <th>Gender</th>\n",
       "      <th>Age</th>\n",
       "      <th>Occupation</th>\n",
       "      <th>Sleep Duration</th>\n",
       "      <th>Quality of Sleep</th>\n",
       "      <th>Physical Activity Level</th>\n",
       "      <th>Stress Level</th>\n",
       "      <th>BMI Category</th>\n",
       "      <th>Blood Pressure</th>\n",
       "      <th>Heart Rate</th>\n",
       "      <th>Daily Steps</th>\n",
       "      <th>Sleep Disorder</th>\n",
       "    </tr>\n",
       "  </thead>\n",
       "  <tbody>\n",
       "    <tr>\n",
       "      <th>0</th>\n",
       "      <td>1</td>\n",
       "      <td>Male</td>\n",
       "      <td>27</td>\n",
       "      <td>Software Engineer</td>\n",
       "      <td>6.1</td>\n",
       "      <td>6</td>\n",
       "      <td>42</td>\n",
       "      <td>6</td>\n",
       "      <td>Overweight</td>\n",
       "      <td>126/83</td>\n",
       "      <td>77</td>\n",
       "      <td>4200</td>\n",
       "      <td>None</td>\n",
       "    </tr>\n",
       "    <tr>\n",
       "      <th>1</th>\n",
       "      <td>2</td>\n",
       "      <td>Male</td>\n",
       "      <td>28</td>\n",
       "      <td>Doctor</td>\n",
       "      <td>6.2</td>\n",
       "      <td>6</td>\n",
       "      <td>60</td>\n",
       "      <td>8</td>\n",
       "      <td>Normal</td>\n",
       "      <td>125/80</td>\n",
       "      <td>75</td>\n",
       "      <td>10000</td>\n",
       "      <td>None</td>\n",
       "    </tr>\n",
       "    <tr>\n",
       "      <th>2</th>\n",
       "      <td>3</td>\n",
       "      <td>Male</td>\n",
       "      <td>28</td>\n",
       "      <td>Doctor</td>\n",
       "      <td>6.2</td>\n",
       "      <td>6</td>\n",
       "      <td>60</td>\n",
       "      <td>8</td>\n",
       "      <td>Normal</td>\n",
       "      <td>125/80</td>\n",
       "      <td>75</td>\n",
       "      <td>10000</td>\n",
       "      <td>None</td>\n",
       "    </tr>\n",
       "    <tr>\n",
       "      <th>3</th>\n",
       "      <td>4</td>\n",
       "      <td>Male</td>\n",
       "      <td>28</td>\n",
       "      <td>Sales Representative</td>\n",
       "      <td>5.9</td>\n",
       "      <td>4</td>\n",
       "      <td>30</td>\n",
       "      <td>8</td>\n",
       "      <td>Obese</td>\n",
       "      <td>140/90</td>\n",
       "      <td>85</td>\n",
       "      <td>3000</td>\n",
       "      <td>Sleep Apnea</td>\n",
       "    </tr>\n",
       "    <tr>\n",
       "      <th>4</th>\n",
       "      <td>5</td>\n",
       "      <td>Male</td>\n",
       "      <td>28</td>\n",
       "      <td>Sales Representative</td>\n",
       "      <td>5.9</td>\n",
       "      <td>4</td>\n",
       "      <td>30</td>\n",
       "      <td>8</td>\n",
       "      <td>Obese</td>\n",
       "      <td>140/90</td>\n",
       "      <td>85</td>\n",
       "      <td>3000</td>\n",
       "      <td>Sleep Apnea</td>\n",
       "    </tr>\n",
       "    <tr>\n",
       "      <th>...</th>\n",
       "      <td>...</td>\n",
       "      <td>...</td>\n",
       "      <td>...</td>\n",
       "      <td>...</td>\n",
       "      <td>...</td>\n",
       "      <td>...</td>\n",
       "      <td>...</td>\n",
       "      <td>...</td>\n",
       "      <td>...</td>\n",
       "      <td>...</td>\n",
       "      <td>...</td>\n",
       "      <td>...</td>\n",
       "      <td>...</td>\n",
       "    </tr>\n",
       "    <tr>\n",
       "      <th>369</th>\n",
       "      <td>370</td>\n",
       "      <td>Female</td>\n",
       "      <td>59</td>\n",
       "      <td>Nurse</td>\n",
       "      <td>8.1</td>\n",
       "      <td>9</td>\n",
       "      <td>75</td>\n",
       "      <td>3</td>\n",
       "      <td>Overweight</td>\n",
       "      <td>140/95</td>\n",
       "      <td>68</td>\n",
       "      <td>7000</td>\n",
       "      <td>Sleep Apnea</td>\n",
       "    </tr>\n",
       "    <tr>\n",
       "      <th>370</th>\n",
       "      <td>371</td>\n",
       "      <td>Female</td>\n",
       "      <td>59</td>\n",
       "      <td>Nurse</td>\n",
       "      <td>8.0</td>\n",
       "      <td>9</td>\n",
       "      <td>75</td>\n",
       "      <td>3</td>\n",
       "      <td>Overweight</td>\n",
       "      <td>140/95</td>\n",
       "      <td>68</td>\n",
       "      <td>7000</td>\n",
       "      <td>Sleep Apnea</td>\n",
       "    </tr>\n",
       "    <tr>\n",
       "      <th>371</th>\n",
       "      <td>372</td>\n",
       "      <td>Female</td>\n",
       "      <td>59</td>\n",
       "      <td>Nurse</td>\n",
       "      <td>8.1</td>\n",
       "      <td>9</td>\n",
       "      <td>75</td>\n",
       "      <td>3</td>\n",
       "      <td>Overweight</td>\n",
       "      <td>140/95</td>\n",
       "      <td>68</td>\n",
       "      <td>7000</td>\n",
       "      <td>Sleep Apnea</td>\n",
       "    </tr>\n",
       "    <tr>\n",
       "      <th>372</th>\n",
       "      <td>373</td>\n",
       "      <td>Female</td>\n",
       "      <td>59</td>\n",
       "      <td>Nurse</td>\n",
       "      <td>8.1</td>\n",
       "      <td>9</td>\n",
       "      <td>75</td>\n",
       "      <td>3</td>\n",
       "      <td>Overweight</td>\n",
       "      <td>140/95</td>\n",
       "      <td>68</td>\n",
       "      <td>7000</td>\n",
       "      <td>Sleep Apnea</td>\n",
       "    </tr>\n",
       "    <tr>\n",
       "      <th>373</th>\n",
       "      <td>374</td>\n",
       "      <td>Female</td>\n",
       "      <td>59</td>\n",
       "      <td>Nurse</td>\n",
       "      <td>8.1</td>\n",
       "      <td>9</td>\n",
       "      <td>75</td>\n",
       "      <td>3</td>\n",
       "      <td>Overweight</td>\n",
       "      <td>140/95</td>\n",
       "      <td>68</td>\n",
       "      <td>7000</td>\n",
       "      <td>Sleep Apnea</td>\n",
       "    </tr>\n",
       "  </tbody>\n",
       "</table>\n",
       "<p>374 rows × 13 columns</p>\n",
       "</div>"
      ],
      "text/plain": [
       "     Person ID  Gender  Age            Occupation  Sleep Duration  \\\n",
       "0            1    Male   27     Software Engineer             6.1   \n",
       "1            2    Male   28                Doctor             6.2   \n",
       "2            3    Male   28                Doctor             6.2   \n",
       "3            4    Male   28  Sales Representative             5.9   \n",
       "4            5    Male   28  Sales Representative             5.9   \n",
       "..         ...     ...  ...                   ...             ...   \n",
       "369        370  Female   59                 Nurse             8.1   \n",
       "370        371  Female   59                 Nurse             8.0   \n",
       "371        372  Female   59                 Nurse             8.1   \n",
       "372        373  Female   59                 Nurse             8.1   \n",
       "373        374  Female   59                 Nurse             8.1   \n",
       "\n",
       "     Quality of Sleep  Physical Activity Level  Stress Level BMI Category  \\\n",
       "0                   6                       42             6   Overweight   \n",
       "1                   6                       60             8       Normal   \n",
       "2                   6                       60             8       Normal   \n",
       "3                   4                       30             8        Obese   \n",
       "4                   4                       30             8        Obese   \n",
       "..                ...                      ...           ...          ...   \n",
       "369                 9                       75             3   Overweight   \n",
       "370                 9                       75             3   Overweight   \n",
       "371                 9                       75             3   Overweight   \n",
       "372                 9                       75             3   Overweight   \n",
       "373                 9                       75             3   Overweight   \n",
       "\n",
       "    Blood Pressure  Heart Rate  Daily Steps Sleep Disorder  \n",
       "0           126/83          77         4200           None  \n",
       "1           125/80          75        10000           None  \n",
       "2           125/80          75        10000           None  \n",
       "3           140/90          85         3000    Sleep Apnea  \n",
       "4           140/90          85         3000    Sleep Apnea  \n",
       "..             ...         ...          ...            ...  \n",
       "369         140/95          68         7000    Sleep Apnea  \n",
       "370         140/95          68         7000    Sleep Apnea  \n",
       "371         140/95          68         7000    Sleep Apnea  \n",
       "372         140/95          68         7000    Sleep Apnea  \n",
       "373         140/95          68         7000    Sleep Apnea  \n",
       "\n",
       "[374 rows x 13 columns]"
      ]
     },
     "execution_count": 104,
     "metadata": {},
     "output_type": "execute_result"
    }
   ],
   "source": [
    "df"
   ]
  },
  {
   "cell_type": "markdown",
   "id": "7b22e7eb-93a1-477f-b6b1-b5bcc59b518e",
   "metadata": {
    "tags": []
   },
   "source": [
    "# One sample t-test"
   ]
  },
  {
   "cell_type": "markdown",
   "id": "dde7c04a-f99f-459e-b154-abcb234abe0e",
   "metadata": {},
   "source": [
    "$t = \\dfrac{\\bar{x}-\\mu_0}{s/\\sqrt{n}}$"
   ]
  },
  {
   "cell_type": "markdown",
   "id": "a12117fe-5ea6-432d-88db-98870e0a351d",
   "metadata": {},
   "source": [
    "### ex) score(60, 74, 69, 80, 72)의 평균은 75이다."
   ]
  },
  {
   "cell_type": "markdown",
   "id": "891d7ca6-4dbd-4938-9486-23f826edf126",
   "metadata": {},
   "source": [
    "$t = \\dfrac{\\bar{x}-75}{s/\\sqrt{n}}$"
   ]
  },
  {
   "cell_type": "markdown",
   "id": "3d956453-4db2-4702-b749-162bb1da2b74",
   "metadata": {},
   "source": [
    "`SAS`"
   ]
  },
  {
   "cell_type": "markdown",
   "id": "05351e63-c2d9-476e-810f-4aaa98124251",
   "metadata": {},
   "source": [
    "```sas\n",
    "data test;\n",
    "   input score;\n",
    "   datalines;\n",
    "60\n",
    "74\n",
    "69\n",
    "80\n",
    "72\n",
    ";\n",
    "run;\n",
    "\n",
    "proc ttest data=test h0=75; \\*귀무가설 h_0 = 75*\\\n",
    "   var score;\n",
    "run;\n",
    "```"
   ]
  },
  {
   "cell_type": "markdown",
   "id": "04303389-246f-46a4-ab1a-05caca1ad28e",
   "metadata": {},
   "source": [
    "`python`"
   ]
  },
  {
   "cell_type": "code",
   "execution_count": 18,
   "id": "729a491b-72b8-4b3f-a393-eca7cd5653ca",
   "metadata": {},
   "outputs": [],
   "source": [
    "scores = [60, 74, 69, 80, 72]"
   ]
  },
  {
   "cell_type": "code",
   "execution_count": 71,
   "id": "9fc7f863-78d3-4bb0-9b86-ea0b7bdcd875",
   "metadata": {},
   "outputs": [],
   "source": [
    "import scipy.stats as stats\n",
    "t_stat, p_value = stats.ttest_1samp(scores, popmean=75)"
   ]
  },
  {
   "cell_type": "code",
   "execution_count": 20,
   "id": "8a796897-1f05-43e6-9358-05ca0fc99e0b",
   "metadata": {},
   "outputs": [
    {
     "name": "stdout",
     "output_type": "stream",
     "text": [
      "T-statistic: -1.2172, P-value: 0.2904\n"
     ]
    }
   ],
   "source": [
    "print(f\"T-statistic: {t_stat:.4f}, P-value: {p_value:.4f}\")"
   ]
  },
  {
   "cell_type": "markdown",
   "id": "b5626240-bd21-4ddd-bb43-1647db75457e",
   "metadata": {},
   "source": [
    "`R`"
   ]
  },
  {
   "cell_type": "code",
   "execution_count": 24,
   "id": "de0a137c-4880-41e1-bf63-ea5a9c1e4b9e",
   "metadata": {},
   "outputs": [
    {
     "name": "stdout",
     "output_type": "stream",
     "text": [
      "\n",
      "\tOne Sample t-test\n",
      "\n",
      "data:  scores\n",
      "t = -1.2172, df = 4, p-value = 0.2904\n",
      "alternative hypothesis: true mean is not equal to 75\n",
      "95 percent confidence interval:\n",
      " 61.87567 80.12433\n",
      "sample estimates:\n",
      "mean of x \n",
      "       71 \n",
      "\n"
     ]
    }
   ],
   "source": [
    "%%R\n",
    "scores <- c(60, 74, 69, 80, 72)\n",
    "\n",
    "t.test(scores, mu = 75)"
   ]
  },
  {
   "cell_type": "markdown",
   "id": "1c294cc8-933c-40cc-9d26-beefc1f7abec",
   "metadata": {},
   "source": [
    "### data ex) Sleep Duration 평균은 7이다."
   ]
  },
  {
   "cell_type": "markdown",
   "id": "743eee6c-c939-4fd6-8b9d-61e42a526370",
   "metadata": {},
   "source": [
    "`SAS`"
   ]
  },
  {
   "cell_type": "markdown",
   "id": "cc778e84-971a-4eb8-8561-ed31fe7dc983",
   "metadata": {},
   "source": [
    "```sas\n",
    "proc ttest data=df h0=7; \\*귀무가설 h_0 = 75*\\\n",
    "   var Sleep Duration;\n",
    "run;\n",
    "```"
   ]
  },
  {
   "cell_type": "markdown",
   "id": "02039394-1079-48d3-a8a5-f5c4b9c214f4",
   "metadata": {},
   "source": [
    "`python`"
   ]
  },
  {
   "cell_type": "code",
   "execution_count": 34,
   "id": "351e5808-4da6-4b2d-938a-ca8e29182912",
   "metadata": {},
   "outputs": [
    {
     "data": {
      "text/plain": [
       "Ttest_1sampResult(statistic=3.2104462758942, pvalue=0.0014402421900475528)"
      ]
     },
     "execution_count": 34,
     "metadata": {},
     "output_type": "execute_result"
    }
   ],
   "source": [
    "stats.ttest_1samp(df['Sleep Duration'], popmean=7)"
   ]
  },
  {
   "cell_type": "markdown",
   "id": "1d40a5f5-7c17-4a0f-aa76-56ad4462dd07",
   "metadata": {},
   "source": [
    "`R`"
   ]
  },
  {
   "cell_type": "code",
   "execution_count": 89,
   "id": "66cfbd0b-d9f6-477e-8a63-d82f2e0a8435",
   "metadata": {},
   "outputs": [
    {
     "name": "stderr",
     "output_type": "stream",
     "text": [
      "/home/csy/anaconda3/envs/temp_csy/lib/python3.8/site-packages/rpy2/robjects/pandas2ri.py:55: FutureWarning: iteritems is deprecated and will be removed in a future version. Use .items instead.\n",
      "  for name, values in obj.iteritems():\n"
     ]
    }
   ],
   "source": [
    "%R -i df "
   ]
  },
  {
   "cell_type": "code",
   "execution_count": 41,
   "id": "9fd47717-2881-42c5-877e-f31ae53fd2b6",
   "metadata": {},
   "outputs": [
    {
     "name": "stdout",
     "output_type": "stream",
     "text": [
      "\n",
      "\tOne Sample t-test\n",
      "\n",
      "data:  df[\"Sleep Duration\"]\n",
      "t = 3.2104, df = 373, p-value = 0.00144\n",
      "alternative hypothesis: true mean is not equal to 7\n",
      "95 percent confidence interval:\n",
      " 7.051185 7.212986\n",
      "sample estimates:\n",
      "mean of x \n",
      " 7.132086 \n",
      "\n"
     ]
    }
   ],
   "source": [
    "%%R\n",
    "t.test(df['Sleep Duration'], mu = 7)"
   ]
  },
  {
   "cell_type": "markdown",
   "id": "62b74fc1-25c6-4519-bd83-0ae1c4bc4ae2",
   "metadata": {},
   "source": [
    "결론: p-value가 0.05보다 작아 귀무가설 기각하여 평균은 7이 아님을 알 수 있다."
   ]
  },
  {
   "cell_type": "markdown",
   "id": "e655720d-afb8-4851-8d5b-db65118e62bd",
   "metadata": {},
   "source": [
    "**정규성 검정 만족하지 않는다면?**"
   ]
  },
  {
   "cell_type": "markdown",
   "id": "7546066e-bd09-4e01-aea8-b10adbc51b70",
   "metadata": {},
   "source": [
    "## Wilcoxon Signed Rank Test"
   ]
  },
  {
   "cell_type": "markdown",
   "id": "c6a1dce6-2561-470b-9f60-1ba9c0ed9ee2",
   "metadata": {},
   "source": [
    "`SAS`"
   ]
  },
  {
   "cell_type": "markdown",
   "id": "048d5515-0253-4b83-97b4-475ac1fbcbd6",
   "metadata": {},
   "source": [
    "```sas\n",
    "data height;\n",
    "   input height;\n",
    "   datalines;\n",
    "165\n",
    "170\n",
    "160\n",
    "172\n",
    "168\n",
    "169\n",
    "171\n",
    "167\n",
    ";\n",
    "run;\n",
    "\n",
    "proc univariate data=height;\n",
    "   var height;\n",
    "   ods select TestsForLocation;\n",
    "run;\n",
    "```"
   ]
  },
  {
   "cell_type": "markdown",
   "id": "72114f56-8b2b-455d-877f-6be10fe0ca90",
   "metadata": {},
   "source": [
    "`python`"
   ]
  },
  {
   "cell_type": "code",
   "execution_count": 87,
   "id": "213202f5-41e8-4cf3-b5c4-80ff03657b92",
   "metadata": {},
   "outputs": [
    {
     "name": "stdout",
     "output_type": "stream",
     "text": [
      "Wilcoxon stat: 13.0, p-value: 0.8653\n"
     ]
    }
   ],
   "source": [
    "from scipy.stats import wilcoxon\n",
    "\n",
    "data = [165, 170, 160, 172, 168, 169, 171, 167]\n",
    "\n",
    "diff = [x - 168 for x in data]\n",
    "\n",
    "stat, p = wilcoxon(diff)\n",
    "print(f\"Wilcoxon stat: {stat}, p-value: {p:.4f}\")"
   ]
  },
  {
   "cell_type": "markdown",
   "id": "7bfef788-037a-44ea-a184-20a3ab5ee328",
   "metadata": {},
   "source": [
    "`R`"
   ]
  },
  {
   "cell_type": "code",
   "execution_count": 88,
   "id": "183d0704-d692-4ed1-b564-3c5084cc8e48",
   "metadata": {},
   "outputs": [
    {
     "name": "stdout",
     "output_type": "stream",
     "text": [
      "\n",
      "\tWilcoxon signed rank test with continuity correction\n",
      "\n",
      "data:  data\n",
      "V = 15, p-value = 0.9324\n",
      "alternative hypothesis: true location is not equal to 168\n",
      "\n"
     ]
    }
   ],
   "source": [
    "%%R\n",
    "data <- c(165, 170, 160, 172, 168, 169, 171, 167)\n",
    "\n",
    "# 귀무가설: median = 168\n",
    "wilcox.test(data, mu = 168)"
   ]
  },
  {
   "cell_type": "markdown",
   "id": "c263b1fa-704a-47fb-a4c2-07af4eba1f68",
   "metadata": {},
   "source": [
    "- 중앙값을 비교, 비모수는 분포를 가정하지 않기 때문에."
   ]
  },
  {
   "cell_type": "markdown",
   "id": "244eeae1-e249-43d2-af7a-21c6af95e343",
   "metadata": {},
   "source": [
    "# Two sample t-test"
   ]
  },
  {
   "cell_type": "markdown",
   "id": "90c8c23a-f45c-45a3-abd3-294a4b3fc561",
   "metadata": {},
   "source": [
    "$t = \\dfrac{\\bar{x}_1 - \\bar{x}_2}{\\sqrt{s_p (\\frac{1}{n_1}-\\frac{1}{n_2})}}, s_p = \\dfrac{(n_1 - 1)s_1^2 - (n_2 - 1)s_2^2}{n_1 - n_2-2}$"
   ]
  },
  {
   "cell_type": "markdown",
   "id": "4ca8fa2a-2b08-49e5-8c4b-9f0293bb4c05",
   "metadata": {},
   "source": [
    "### ex) a vs b group 평균 비교"
   ]
  },
  {
   "cell_type": "markdown",
   "id": "b29340fc-f7e6-4394-8fab-c9dd295007c6",
   "metadata": {},
   "source": [
    "`SAS`"
   ]
  },
  {
   "cell_type": "markdown",
   "id": "f1b5742f-babe-429c-9469-a9852bc0a83b",
   "metadata": {},
   "source": [
    "```sas\n",
    "data two_group;\n",
    "   input group $ score;\n",
    "   datalines;\n",
    "A 85\n",
    "A 88\n",
    "A 90\n",
    "B 80\n",
    "B 78\n",
    "B 82\n",
    ";\n",
    "run;\n",
    "\n",
    "proc ttest data=two_group;\n",
    "   class group;\n",
    "   var score;\n",
    "run;\n",
    "```"
   ]
  },
  {
   "cell_type": "markdown",
   "id": "5ed45b7d-b796-4b9c-92cc-795404dfc47b",
   "metadata": {},
   "source": [
    "- SAS에서는 등분산을 가정한 결과(Pooled)와 가정하지 않은 결과(Satterthwaite/Welch)를 모두 제시하고 있어 별도의 옵션은 존재하지 않는다."
   ]
  },
  {
   "cell_type": "markdown",
   "id": "befb2af3-ceef-467f-9bb7-023b1ccd4b10",
   "metadata": {},
   "source": [
    "`python`"
   ]
  },
  {
   "cell_type": "code",
   "execution_count": 25,
   "id": "82e28788-657d-4a44-84fc-77e150f4df32",
   "metadata": {},
   "outputs": [],
   "source": [
    "group_a = [85, 88, 90]\n",
    "group_b = [80, 78, 82]"
   ]
  },
  {
   "cell_type": "markdown",
   "id": "2158276b-7613-40cb-a054-c8e3569d3b38",
   "metadata": {},
   "source": [
    "- equal_var는 등분산 가정 어떻게 할지"
   ]
  },
  {
   "cell_type": "code",
   "execution_count": 72,
   "id": "31226974-5633-48ed-b14b-30ca1f795358",
   "metadata": {},
   "outputs": [],
   "source": [
    "import scipy.stats as stats\n",
    "t_stat, p_value = stats.ttest_ind(group_a, group_b, equal_var=True)"
   ]
  },
  {
   "cell_type": "code",
   "execution_count": 27,
   "id": "77697611-dd80-45c4-8f63-9addb796f29c",
   "metadata": {},
   "outputs": [
    {
     "name": "stdout",
     "output_type": "stream",
     "text": [
      "T-statistic: 4.1309, P-value: 0.0145\n"
     ]
    }
   ],
   "source": [
    "print(f\"T-statistic: {t_stat:.4f}, P-value: {p_value:.4f}\")"
   ]
  },
  {
   "cell_type": "markdown",
   "id": "c30537de-ba30-494a-9bf6-94509bfd5a6c",
   "metadata": {},
   "source": [
    "`R`"
   ]
  },
  {
   "cell_type": "markdown",
   "id": "c540ad35-937e-48ea-a4af-25c452564a31",
   "metadata": {},
   "source": [
    "- var.equal는 등분산 가정 어떻게 할지"
   ]
  },
  {
   "cell_type": "code",
   "execution_count": 28,
   "id": "68176a1d-86e7-4aa8-b45b-d1309bb3fd3b",
   "metadata": {},
   "outputs": [
    {
     "name": "stdout",
     "output_type": "stream",
     "text": [
      "\n",
      "\tTwo Sample t-test\n",
      "\n",
      "data:  group_a and group_b\n",
      "t = 4.1309, df = 4, p-value = 0.01448\n",
      "alternative hypothesis: true difference in means is not equal to 0\n",
      "95 percent confidence interval:\n",
      "  2.513803 12.819531\n",
      "sample estimates:\n",
      "mean of x mean of y \n",
      " 87.66667  80.00000 \n",
      "\n"
     ]
    }
   ],
   "source": [
    "%%R\n",
    "group_a <- c(85, 88, 90)\n",
    "group_b <- c(80, 78, 82)\n",
    "\n",
    "t.test(group_a, group_b, var.equal = TRUE)"
   ]
  },
  {
   "cell_type": "markdown",
   "id": "1a59bbcf-f73a-4a82-b241-862ac5fcfb74",
   "metadata": {},
   "source": [
    "### data ex) Sleep Duration 의 성별 평균 비교"
   ]
  },
  {
   "cell_type": "markdown",
   "id": "bd42fb39-2fc8-4d47-9426-e7a5584cb409",
   "metadata": {},
   "source": [
    "`SAS`"
   ]
  },
  {
   "cell_type": "markdown",
   "id": "2d96cd80-8028-4480-b00c-dec410700ea9",
   "metadata": {},
   "source": [
    "```sas\n",
    "proc ttest data=df;\n",
    "   class Gender;\n",
    "   var Sleep Duration;\n",
    "run;\n",
    "```"
   ]
  },
  {
   "cell_type": "markdown",
   "id": "09fdad15-6dc7-4602-9ab5-8643aede53be",
   "metadata": {},
   "source": [
    "`python`"
   ]
  },
  {
   "cell_type": "code",
   "execution_count": 49,
   "id": "49cfb120-41af-42d9-8c9e-46e4466bd670",
   "metadata": {},
   "outputs": [
    {
     "data": {
      "text/plain": [
       "Ttest_indResult(statistic=-2.3624469898393397, pvalue=0.018668859270607456)"
      ]
     },
     "execution_count": 49,
     "metadata": {},
     "output_type": "execute_result"
    }
   ],
   "source": [
    "stats.ttest_ind(df.query('Gender==\"Male\"')['Sleep Duration'], df.query('Gender==\"Female\"')['Sleep Duration'], equal_var=True)"
   ]
  },
  {
   "cell_type": "markdown",
   "id": "51a8cc44-9719-4c05-9ac9-b1189250f49e",
   "metadata": {},
   "source": [
    "`R`"
   ]
  },
  {
   "cell_type": "code",
   "execution_count": 69,
   "id": "2f9e486b-c215-4bc6-9579-557c0424e048",
   "metadata": {},
   "outputs": [
    {
     "name": "stdout",
     "output_type": "stream",
     "text": [
      "\n",
      "\tTwo Sample t-test\n",
      "\n",
      "data:  df[df[\"Gender\"] == \"Male\", ][\"Sleep Duration\"] and df[df[\"Gender\"] == \"Female\", ][\"Sleep Duration\"]\n",
      "t = -2.3624, df = 372, p-value = 0.01867\n",
      "alternative hypothesis: true difference in means is not equal to 0\n",
      "95 percent confidence interval:\n",
      " -0.35404821 -0.03239537\n",
      "sample estimates:\n",
      "mean of x mean of y \n",
      " 7.036508  7.229730 \n",
      "\n"
     ]
    }
   ],
   "source": [
    "%%R\n",
    "t.test(df[df['Gender']=='Male',]['Sleep Duration'], df[df['Gender']=='Female',]['Sleep Duration'], var.equal = TRUE)"
   ]
  },
  {
   "cell_type": "markdown",
   "id": "ed9a3bb2-a5d5-4ca6-908d-315a2675213b",
   "metadata": {},
   "source": [
    "- 결론: p-value가 0.05보다 작아 귀무가설을 기각하고 Sleep Duration의 성별간 평균이 다르다고 할 수 있다."
   ]
  },
  {
   "cell_type": "markdown",
   "id": "adcf4240-4be5-4525-8a9c-56e1e4850607",
   "metadata": {},
   "source": [
    "**정규성 검정 만족하지 않는다면?**"
   ]
  },
  {
   "cell_type": "markdown",
   "id": "c63816a0-8b21-4657-adb3-44bc4206a922",
   "metadata": {},
   "source": [
    "## Mann-Whitney U Test"
   ]
  },
  {
   "cell_type": "markdown",
   "id": "7f24b38a-8d34-4908-825d-98bbd06cebe2",
   "metadata": {},
   "source": [
    "`SAS`"
   ]
  },
  {
   "cell_type": "markdown",
   "id": "c9de426f-ca10-41c7-91b3-f98e5010ab72",
   "metadata": {},
   "source": [
    "```sas\n",
    "data two_group;\n",
    "   input group $ score;\n",
    "   datalines;\n",
    "A 85\n",
    "A 88\n",
    "A 90\n",
    "B 80\n",
    "B 78\n",
    "B 82\n",
    ";\n",
    "run;\n",
    "\n",
    "proc npar1way data=two_group wilcoxon;\n",
    "   class group;\n",
    "   var score;\n",
    "run;\n",
    "```"
   ]
  },
  {
   "cell_type": "markdown",
   "id": "4b41923c-2382-481f-8712-a1dd3e1d8a8f",
   "metadata": {},
   "source": [
    "- `npar1way`는 비모수 검정 (nonparametric tests)  + 1개 요인(1way)"
   ]
  },
  {
   "cell_type": "markdown",
   "id": "75eed969-ac2a-43f2-a8bf-8ad4f4fd3e50",
   "metadata": {},
   "source": [
    "`python`"
   ]
  },
  {
   "cell_type": "code",
   "execution_count": 83,
   "id": "c1e9e707-3f13-4a5a-9b0f-173ca8566df5",
   "metadata": {},
   "outputs": [
    {
     "name": "stdout",
     "output_type": "stream",
     "text": [
      "Mann-Whitney U: 9.0, p-value: 0.1000\n"
     ]
    }
   ],
   "source": [
    "from scipy.stats import mannwhitneyu\n",
    "\n",
    "group_a = [85, 88, 90]\n",
    "group_b = [80, 78, 82]\n",
    "\n",
    "stat, p = mannwhitneyu(group_a, group_b, alternative='two-sided')\n",
    "print(f\"Mann-Whitney U: {stat}, p-value: {p:.4f}\")"
   ]
  },
  {
   "cell_type": "markdown",
   "id": "04f8005d-1607-4941-a1ce-bda18d7d36fc",
   "metadata": {},
   "source": [
    "`R`"
   ]
  },
  {
   "cell_type": "code",
   "execution_count": 85,
   "id": "85ef8f7b-04c2-4911-a085-5176e9ceaf37",
   "metadata": {},
   "outputs": [
    {
     "name": "stdout",
     "output_type": "stream",
     "text": [
      "\n",
      "\tWilcoxon rank sum exact test\n",
      "\n",
      "data:  group_a and group_b\n",
      "W = 9, p-value = 0.1\n",
      "alternative hypothesis: true location shift is not equal to 0\n",
      "\n"
     ]
    }
   ],
   "source": [
    "%%R\n",
    "group_a <- c(85, 88, 90)\n",
    "group_b <- c(80, 78, 82)\n",
    "\n",
    "wilcox.test(group_a, group_b, paired = FALSE)"
   ]
  },
  {
   "cell_type": "markdown",
   "id": "1182258b-ec3b-4105-9a8a-d9d27c48bd0c",
   "metadata": {},
   "source": [
    "# Paired t-test"
   ]
  },
  {
   "cell_type": "markdown",
   "id": "6b2202d5-70ce-4405-a598-a5fdc9ca3084",
   "metadata": {},
   "source": [
    "$t = \\dfrac{\\bar{d}}{s_d/\\sqrt{n}}$"
   ]
  },
  {
   "cell_type": "markdown",
   "id": "7f76e44e-b314-47ec-8c8c-cdcb27756c17",
   "metadata": {},
   "source": [
    "`SAS`"
   ]
  },
  {
   "cell_type": "markdown",
   "id": "1f17819d-0ffb-4907-9934-60e146a75e88",
   "metadata": {},
   "source": [
    "```sas\n",
    "data bp;\n",
    "   input before after;\n",
    "   datalines;\n",
    "130 125\n",
    "128 126\n",
    "135 132\n",
    "133 130\n",
    "129 124\n",
    ";\n",
    "run;\n",
    "\n",
    "proc ttest data=bp;\n",
    "   paired before*after;\n",
    "run;\n",
    "```"
   ]
  },
  {
   "cell_type": "markdown",
   "id": "28671fbe-147e-4917-bfe9-a184a45721c7",
   "metadata": {},
   "source": [
    "`python`"
   ]
  },
  {
   "cell_type": "code",
   "execution_count": 73,
   "id": "ce5cf5d5-9121-449b-9bdf-74729f6e52b6",
   "metadata": {},
   "outputs": [],
   "source": [
    "from scipy import stats"
   ]
  },
  {
   "cell_type": "code",
   "execution_count": 74,
   "id": "739c3991-8bf8-42d1-bc1f-8077df857190",
   "metadata": {},
   "outputs": [],
   "source": [
    "before = [130, 128, 135, 133, 129]\n",
    "after  = [125, 126, 132, 130, 124]"
   ]
  },
  {
   "cell_type": "code",
   "execution_count": 76,
   "id": "6ac8c47e-887d-42e9-91d0-160b63ffeb0f",
   "metadata": {},
   "outputs": [],
   "source": [
    "t_stat, p_value = stats.ttest_rel(before, after)"
   ]
  },
  {
   "cell_type": "code",
   "execution_count": 77,
   "id": "76a2e7ee-d96b-4d2a-b465-b1fb2256e864",
   "metadata": {},
   "outputs": [
    {
     "name": "stdout",
     "output_type": "stream",
     "text": [
      "T-statistic: 6.0000, P-value: 0.0039\n"
     ]
    }
   ],
   "source": [
    "print(f\"T-statistic: {t_stat:.4f}, P-value: {p_value:.4f}\")"
   ]
  },
  {
   "cell_type": "markdown",
   "id": "6d896cd8-cbf6-4d60-8da0-66b4a128e614",
   "metadata": {},
   "source": [
    "`R`"
   ]
  },
  {
   "cell_type": "code",
   "execution_count": 78,
   "id": "3e3378bc-72e6-4281-89a2-3d8499555446",
   "metadata": {},
   "outputs": [
    {
     "name": "stdout",
     "output_type": "stream",
     "text": [
      "\n",
      "\tPaired t-test\n",
      "\n",
      "data:  before and after\n",
      "t = 6, df = 4, p-value = 0.003883\n",
      "alternative hypothesis: true mean difference is not equal to 0\n",
      "95 percent confidence interval:\n",
      " 1.934133 5.265867\n",
      "sample estimates:\n",
      "mean difference \n",
      "            3.6 \n",
      "\n"
     ]
    }
   ],
   "source": [
    "%%R\n",
    "before <- c(130, 128, 135, 133, 129)\n",
    "after  <- c(125, 126, 132, 130, 124)\n",
    "\n",
    "t.test(before, after, paired = TRUE)"
   ]
  },
  {
   "cell_type": "markdown",
   "id": "e16ffd56-dce7-441b-ab53-a70368a787a9",
   "metadata": {},
   "source": [
    "- 결론: p-value가 0.05보다 작아 귀무가설을 기각하고 전과 후가 차이가 있는 것으로 결론을 내릴 수 있다."
   ]
  },
  {
   "cell_type": "markdown",
   "id": "a6092281-eb28-4f52-9f9f-91f1cb7908a0",
   "metadata": {},
   "source": [
    "**정규성 검정 만족하지 않는다면?**"
   ]
  },
  {
   "cell_type": "markdown",
   "id": "cea25af1-e135-463c-8607-8c3f5cd6c90d",
   "metadata": {},
   "source": [
    "## Wilcoxon Signed Rank Test"
   ]
  },
  {
   "cell_type": "markdown",
   "id": "5c66bf4d-3000-47d4-b00b-a613cc6f80cd",
   "metadata": {},
   "source": [
    "`SAS`"
   ]
  },
  {
   "cell_type": "markdown",
   "id": "973c7105-537c-4270-a556-5e8649c1f027",
   "metadata": {},
   "source": [
    "```sas\n",
    "data bp;\n",
    "   input before after;\n",
    "   diff = before - after;\n",
    "   datalines;\n",
    "130 125\n",
    "128 126\n",
    "135 132\n",
    "133 130\n",
    "129 124\n",
    ";\n",
    "run;\n",
    "\n",
    "proc univariate data=bp;\n",
    "   var diff;\n",
    "   ods select TestsForLocation;\n",
    "run;\n",
    "```"
   ]
  },
  {
   "cell_type": "markdown",
   "id": "2be75354-b8ca-40be-a7d7-0f0bbdf05c9e",
   "metadata": {},
   "source": [
    "`python`"
   ]
  },
  {
   "cell_type": "code",
   "execution_count": 80,
   "id": "423945a8-5aab-4201-9320-f6c0cc8dc515",
   "metadata": {},
   "outputs": [
    {
     "name": "stdout",
     "output_type": "stream",
     "text": [
      "Wilcoxon stat: 0.0, p-value: 0.0625\n"
     ]
    }
   ],
   "source": [
    "from scipy.stats import wilcoxon\n",
    "\n",
    "before = [130, 128, 135, 133, 129]\n",
    "after  = [125, 126, 132, 130, 124]\n",
    "\n",
    "stat, p = wilcoxon(before, after)\n",
    "print(f\"Wilcoxon stat: {stat}, p-value: {p:.4f}\")"
   ]
  },
  {
   "cell_type": "markdown",
   "id": "603fb456-0831-4536-8176-56bc5f27a67f",
   "metadata": {},
   "source": [
    "`R`"
   ]
  },
  {
   "cell_type": "code",
   "execution_count": 82,
   "id": "09f2107a-098e-47e3-b196-e0c207778033",
   "metadata": {},
   "outputs": [
    {
     "name": "stdout",
     "output_type": "stream",
     "text": [
      "\n",
      "\tWilcoxon signed rank test with continuity correction\n",
      "\n",
      "data:  before and after\n",
      "V = 15, p-value = 0.05676\n",
      "alternative hypothesis: true location shift is not equal to 0\n",
      "\n"
     ]
    }
   ],
   "source": [
    "%%R\n",
    "before <- c(130, 128, 135, 133, 129)\n",
    "after  <- c(125, 126, 132, 130, 124)\n",
    "\n",
    "wilcox.test(before, after, paired = TRUE)"
   ]
  },
  {
   "cell_type": "markdown",
   "id": "ad8b720a-35fa-4d5f-82b7-03476d57b040",
   "metadata": {},
   "source": [
    "# ANOVA"
   ]
  },
  {
   "cell_type": "markdown",
   "id": "59584577-87d5-4fac-84fc-bb77cc63b8ef",
   "metadata": {},
   "source": [
    "Total $df_T = N-1$\n",
    "\n",
    "$SST = \\sum^k_{i=1} \\sum^{n_i}_{j=1} (Y_{ij} - \\bar{Y})^2$\n",
    "\n",
    "Between-group $df_B = k-1$\n",
    "\n",
    "$SSB = \\sum^k_{i=1} n_i (\\bar{Y}_i - \\bar{Y})^2$\n",
    "\n",
    "Within-group $df_W = N-k$\n",
    "\n",
    "$SSW = \\sum^k_{i=1} \\sum^{n_i}_{j=1}(Y_{ij} - \\bar{Y}_i)^2$\n",
    "\n",
    "$MSB = \\dfrac{SSB}{k-1}$\n",
    "\n",
    "$MSW = \\dfrac{SSW}{N-k}$\n",
    "\n",
    "$F = \\dfrac{MSB}{MSW}$"
   ]
  },
  {
   "cell_type": "markdown",
   "id": "c7ed1266-2bc0-49dc-92b1-6fec79dfa6e5",
   "metadata": {},
   "source": [
    "### ex) group별 value 비교"
   ]
  },
  {
   "cell_type": "markdown",
   "id": "31eb9c7f-ca53-4f2e-a3c0-4b80247f28c2",
   "metadata": {},
   "source": [
    "`SAS`"
   ]
  },
  {
   "cell_type": "markdown",
   "id": "22271b56-2b7e-4aa6-88f5-3bc2f243608d",
   "metadata": {},
   "source": [
    "```sas\n",
    "data mydata;\n",
    "   input group $ value;\n",
    "   datalines;\n",
    "A 5\n",
    "A 6\n",
    "A 7\n",
    "B 8\n",
    "B 9\n",
    "B 10\n",
    "C 6\n",
    "C 5\n",
    "C 4\n",
    ";\n",
    "run;\n",
    "\n",
    "proc glm data=mydata;\n",
    "   class group;\n",
    "   model value = group;\n",
    "   means group / hovtest=levene;\n",
    "run;\n",
    "quit;\n",
    "```"
   ]
  },
  {
   "cell_type": "markdown",
   "id": "b3f27348-d9e7-4199-a186-1ba09ff6e9a6",
   "metadata": {},
   "source": [
    "- 첫번째 group은 변수가 범주형임을 암시하고\n",
    "- 두번째 group은 변수 이름\n",
    "- 르벤테스트로 등분산도 검정"
   ]
  },
  {
   "cell_type": "markdown",
   "id": "364431fe-67c1-4816-a92e-7d0377f18611",
   "metadata": {},
   "source": [
    "`python`\n"
   ]
  },
  {
   "cell_type": "code",
   "execution_count": 147,
   "id": "bd930393-d060-40e6-8350-a40538f32d43",
   "metadata": {},
   "outputs": [
    {
     "name": "stdout",
     "output_type": "stream",
     "text": [
      "Levene’s test statistic = 0.0000, p-value = 1.0000\n"
     ]
    }
   ],
   "source": [
    "import scipy.stats as stats\n",
    "from scipy.stats import levene\n",
    "\n",
    "group_A = [5, 6, 7]\n",
    "group_B = [8, 9, 10]\n",
    "group_C = [6, 5, 4]\n",
    "\n",
    "stat, p = levene(group_A, group_B, group_C)\n",
    "\n",
    "print(f\"Levene’s test statistic = {stat:.4f}, p-value = {p:.4f}\")"
   ]
  },
  {
   "cell_type": "markdown",
   "id": "a8cadd95-32c5-49f1-a0f8-1942e42eeb76",
   "metadata": {},
   "source": [
    "- 등분산 가정 만족 안하는데, 만족하다고 보고 anova 시행한 결과(아래)"
   ]
  },
  {
   "cell_type": "code",
   "execution_count": 148,
   "id": "fa2f9c83-04e1-409f-b88f-581fb7e4b41f",
   "metadata": {},
   "outputs": [
    {
     "name": "stdout",
     "output_type": "stream",
     "text": [
      "ANOVA p-value: 0.0066\n"
     ]
    }
   ],
   "source": [
    "f_stat, p = stats.f_oneway(group_A, group_B, group_C)\n",
    "print(f\"ANOVA p-value: {p:.4f}\")"
   ]
  },
  {
   "cell_type": "markdown",
   "id": "ce1cd964-ae05-4327-9afc-1c301c2b3d22",
   "metadata": {},
   "source": [
    "`R`"
   ]
  },
  {
   "cell_type": "markdown",
   "id": "591e6c78-57ec-485f-a5e0-39d6da77c2dd",
   "metadata": {},
   "source": [
    "- leventest를 할 수 있는 car 패키지 설치 문제 있어서 주석으로 대체"
   ]
  },
  {
   "cell_type": "markdown",
   "id": "eeadb028-1a92-4749-945e-411c82045f74",
   "metadata": {},
   "source": [
    "```r\n",
    "leveneTest(value ~ group, data = df)\n",
    "```"
   ]
  },
  {
   "cell_type": "code",
   "execution_count": 91,
   "id": "692a9e43-03cc-4d16-8abf-021a6cbfe851",
   "metadata": {},
   "outputs": [
    {
     "name": "stdout",
     "output_type": "stream",
     "text": [
      "            Df Sum Sq Mean Sq F value  Pr(>F)   \n",
      "group        2     26      13      13 0.00659 **\n",
      "Residuals    6      6       1                   \n",
      "---\n",
      "Signif. codes:  0 ‘***’ 0.001 ‘**’ 0.01 ‘*’ 0.05 ‘.’ 0.1 ‘ ’ 1\n"
     ]
    }
   ],
   "source": [
    "%%R\n",
    "group <- c(rep(\"A\",3), rep(\"B\",3), rep(\"C\",3))\n",
    "value <- c(5,6,7, 8,9,10, 6,5,4)\n",
    "df <- data.frame(group, value)\n",
    "\n",
    "anova_result <- aov(value ~ group, data = df)\n",
    "summary(anova_result)"
   ]
  },
  {
   "cell_type": "markdown",
   "id": "00695081-0291-4e7e-8079-f754ed95a095",
   "metadata": {},
   "source": [
    "### data ex) Sleep Duration BMI Category 별 평균 비교"
   ]
  },
  {
   "cell_type": "markdown",
   "id": "ab33cbe8-a063-4db8-bf55-4053008cb014",
   "metadata": {},
   "source": [
    "`SAS`"
   ]
  },
  {
   "cell_type": "markdown",
   "id": "015ac6eb-e101-4d6a-b3b9-e4d5edc8a160",
   "metadata": {},
   "source": [
    "```sas\n",
    "proc glm data=df;\n",
    "   class group;\n",
    "   model value = BMI Category;\n",
    "run;\n",
    "```"
   ]
  },
  {
   "cell_type": "markdown",
   "id": "d7d7babb-4649-474f-ac72-dee0cc5caddb",
   "metadata": {},
   "source": [
    "`python`"
   ]
  },
  {
   "cell_type": "code",
   "execution_count": 111,
   "id": "2f4704e2-1966-4965-8c28-576ffd89f999",
   "metadata": {},
   "outputs": [
    {
     "data": {
      "text/plain": [
       "Normal           195\n",
       "Overweight       148\n",
       "Normal Weight     21\n",
       "Obese             10\n",
       "Name: BMI Category, dtype: int64"
      ]
     },
     "execution_count": 111,
     "metadata": {},
     "output_type": "execute_result"
    }
   ],
   "source": [
    "df['BMI Category'].value_counts()"
   ]
  },
  {
   "cell_type": "code",
   "execution_count": 121,
   "id": "a807b859-d527-4ca2-ae07-c5dbfb694ff1",
   "metadata": {},
   "outputs": [
    {
     "data": {
      "text/plain": [
       "F_onewayResult(statistic=20.66151226910848, pvalue=2.1273445794819254e-12)"
      ]
     },
     "execution_count": 121,
     "metadata": {},
     "output_type": "execute_result"
    }
   ],
   "source": [
    "stats.f_oneway(df[df['BMI Category']=='Normal']['Sleep Duration'], df[df['BMI Category']=='Overweight']['Sleep Duration'], df[df['BMI Category']=='Normal Weight']['Sleep Duration'], df[df['BMI Category']=='Obese']['Sleep Duration'])"
   ]
  },
  {
   "cell_type": "markdown",
   "id": "42734e5c-db84-4d9a-bc43-5a27c2f1c098",
   "metadata": {},
   "source": [
    "`R`"
   ]
  },
  {
   "cell_type": "markdown",
   "id": "1d682b15-01af-4758-a57e-21cf0bc0191b",
   "metadata": {},
   "source": [
    "**R에서는 작은 따옴표나 큰 따옴표 말고 백틱backtick(`)을 이용하기**"
   ]
  },
  {
   "cell_type": "code",
   "execution_count": 127,
   "id": "c1638c84-0742-42ae-8571-5cdfa0b7872a",
   "metadata": {},
   "outputs": [
    {
     "name": "stdout",
     "output_type": "stream",
     "text": [
      "                Df Sum Sq Mean Sq F value   Pr(>F)    \n",
      "`BMI Category`   3  33.88  11.294   20.66 2.13e-12 ***\n",
      "Residuals      370 202.25   0.547                     \n",
      "---\n",
      "Signif. codes:  0 ‘***’ 0.001 ‘**’ 0.01 ‘*’ 0.05 ‘.’ 0.1 ‘ ’ 1\n"
     ]
    }
   ],
   "source": [
    "%%R\n",
    "anova_result <- aov(`Sleep Duration` ~ `BMI Category`, data = df)\n",
    "summary(anova_result)"
   ]
  },
  {
   "cell_type": "markdown",
   "id": "bc3efabb-f7fd-45a1-b065-32065ea42b69",
   "metadata": {},
   "source": [
    "**정규성 가정 만족하지만 등분산성 가정 만족 안 한다면?**"
   ]
  },
  {
   "cell_type": "markdown",
   "id": "b2a03a11-be58-441f-84be-46eb2f2304d0",
   "metadata": {},
   "source": [
    "## Welch's ANOVA"
   ]
  },
  {
   "cell_type": "markdown",
   "id": "0dc43347-c26e-4332-8681-eafde6e8f30f",
   "metadata": {},
   "source": [
    "`SAS`"
   ]
  },
  {
   "cell_type": "markdown",
   "id": "d08ac04e-29a6-4d41-a87d-93135aafc466",
   "metadata": {},
   "source": [
    "```sas\n",
    "PROC GLM DATA=your_dataset;\n",
    "    CLASS group;\n",
    "    MODEL response_variable = group;\n",
    "    MEANS group / WELCH;\n",
    "RUN;\n",
    "```"
   ]
  },
  {
   "cell_type": "markdown",
   "id": "3300cb37-3bd3-4479-aefc-d77df7634b99",
   "metadata": {},
   "source": [
    "`python`"
   ]
  },
  {
   "cell_type": "code",
   "execution_count": 95,
   "id": "3edc777f-4c29-4b6c-92a4-1bc708637be2",
   "metadata": {},
   "outputs": [
    {
     "name": "stdout",
     "output_type": "stream",
     "text": [
      "  Source  ddof1  ddof2          F     p-unc     np2\n",
      "0  group      2    4.0  11.142857  0.023157  0.8125\n"
     ]
    }
   ],
   "source": [
    "import pandas as pd\n",
    "import pingouin as pg\n",
    "\n",
    "df = pd.DataFrame({\n",
    "    'group': ['A']*3 + ['B']*3 + ['C']*3,\n",
    "    'value': [5, 6, 7, 8, 9, 10, 6, 5, 4]\n",
    "})\n",
    "\n",
    "welch = pg.welch_anova(dv='value', between='group', data=df)\n",
    "print(welch)"
   ]
  },
  {
   "cell_type": "markdown",
   "id": "edf530db-439a-487a-bff6-94318bbe2a23",
   "metadata": {},
   "source": [
    "`R`"
   ]
  },
  {
   "cell_type": "code",
   "execution_count": 96,
   "id": "8e847496-08e1-4804-aa11-cf97e30dddbb",
   "metadata": {},
   "outputs": [
    {
     "name": "stderr",
     "output_type": "stream",
     "text": [
      "/home/csy/anaconda3/envs/temp_csy/lib/python3.8/site-packages/rpy2/robjects/pandas2ri.py:55: FutureWarning: iteritems is deprecated and will be removed in a future version. Use .items instead.\n",
      "  for name, values in obj.iteritems():\n"
     ]
    }
   ],
   "source": [
    "%R -i df"
   ]
  },
  {
   "cell_type": "code",
   "execution_count": 97,
   "id": "3c165c62-6678-4aa4-8684-c3d89735e904",
   "metadata": {},
   "outputs": [
    {
     "name": "stdout",
     "output_type": "stream",
     "text": [
      "\n",
      "\tOne-way analysis of means (not assuming equal variances)\n",
      "\n",
      "data:  value and group\n",
      "F = 11.143, num df = 2, denom df = 4, p-value = 0.02316\n",
      "\n"
     ]
    }
   ],
   "source": [
    "%%R\n",
    "oneway.test(value ~ group, data = df, var.equal = FALSE)"
   ]
  },
  {
   "cell_type": "markdown",
   "id": "80747730-265f-49be-8828-f7cd3a45e78b",
   "metadata": {},
   "source": [
    "- p-value가 0.05보다 작으므로 귀무가설 기각, 그룹별로 평균이 다르다. \n",
    "- np2가 1에 가까움. group이 value에 미치는 영향이 크다."
   ]
  },
  {
   "cell_type": "markdown",
   "id": "5d4beb54-4ff1-4d91-a641-3dbd18c8b82b",
   "metadata": {},
   "source": [
    "**정규성 만족하지 않고, 등분산성은 만족할때**"
   ]
  },
  {
   "cell_type": "markdown",
   "id": "a55dcd9d-ffe2-43b6-9121-53af1d1fb35a",
   "metadata": {},
   "source": [
    "## Kruskal-Wallis Test"
   ]
  },
  {
   "cell_type": "markdown",
   "id": "a74dd4ba-9f6a-406d-afcc-7401a7d0b924",
   "metadata": {},
   "source": [
    "`SAS`"
   ]
  },
  {
   "cell_type": "markdown",
   "id": "b9585ffb-f52f-4f1f-8175-06099490e8f2",
   "metadata": {},
   "source": [
    "```sas\n",
    "proc npar1way data=mydata wilcoxon;\n",
    "   class group;\n",
    "   var value;\n",
    "run;\n",
    "```"
   ]
  },
  {
   "cell_type": "markdown",
   "id": "86be26d0-8cdb-41e8-9da7-05fad03bc1bc",
   "metadata": {},
   "source": [
    "`python`"
   ]
  },
  {
   "cell_type": "code",
   "execution_count": 98,
   "id": "d7333e24-753a-4521-bacd-c99b4632940a",
   "metadata": {},
   "outputs": [
    {
     "name": "stdout",
     "output_type": "stream",
     "text": [
      "Kruskal-Wallis p-value: 0.0484\n"
     ]
    }
   ],
   "source": [
    "h_stat, p = stats.kruskal(group_A, group_B, group_C)\n",
    "print(f\"Kruskal-Wallis p-value: {p:.4f}\")"
   ]
  },
  {
   "cell_type": "markdown",
   "id": "6f6d04b9-b4de-421b-b40c-98e7d9be7cb1",
   "metadata": {},
   "source": [
    "`R`"
   ]
  },
  {
   "cell_type": "code",
   "execution_count": 99,
   "id": "70fd7d29-63c7-4b12-a921-e7e85b10fb85",
   "metadata": {},
   "outputs": [
    {
     "name": "stdout",
     "output_type": "stream",
     "text": [
      "\n",
      "\tKruskal-Wallis rank sum test\n",
      "\n",
      "data:  value by group\n",
      "Kruskal-Wallis chi-squared = 6.0565, df = 2, p-value = 0.0484\n",
      "\n"
     ]
    }
   ],
   "source": [
    "%%R\n",
    "kruskal.test(value ~ group, data = df)"
   ]
  },
  {
   "cell_type": "markdown",
   "id": "8b657888-996a-4f1d-b968-343004065dac",
   "metadata": {},
   "source": [
    "- 크루스칼 왈리스의 통계량이 카이제곱 분포에 근사하여 chi-squared가 붙은 채 결과가 나옴"
   ]
  },
  {
   "cell_type": "markdown",
   "id": "733307ce-233a-4443-b9f1-a3ce996255fc",
   "metadata": {},
   "source": [
    "# Two-way ANOVA "
   ]
  },
  {
   "cell_type": "markdown",
   "id": "d303d37d-2604-41bd-8346-3b03ce3646df",
   "metadata": {},
   "source": [
    "$SS_{Total} = SS_A + SS_B + SS_{AB} + SS_{Error}$\n",
    "\n",
    "$df_{Total} = abn-1$\n",
    "\n",
    "$SS_A = b - n \\sum^a_{i=1} (\\bar{Y}_{i..} - \\bar{Y}_{...})^2$\n",
    "\n",
    "$df_a = a-1$\n",
    "\n",
    "$SS_B = a n \\sum^b_{j=1} (\\bar{Y}_{.j.} - \\bar{Y}_{...})^2$\n",
    "\n",
    "$df_b = b-1$\n",
    "\n",
    "$SS_{AB} = n\\sum^a_{i=1} \\sum^b_{j=1} (\\bar{Y}_{ij.} - \\bar{Y}_{i..} - \\bar{Y}_{.j.} + \\bar{Y}_{...})^2$\n",
    "\n",
    "$df_{ab} = (a-1)(b-1)$\n",
    "\n",
    "$SS_{Error} = \\sum^a_{i=1} \\sum^b_{j=1} \\sum^n_{k=1} (Y_{ijk} - \\bar{Y}_{ij.})^2$\n",
    "\n",
    "$df_{Error} = ab(n-1)$\n",
    "\n",
    "$F_A = \\dfrac{MS_A}{ME_{Error}}$\n",
    "\n",
    "$F_B = \\dfrac{MS_B}{ME_{Error}}$\n",
    "\n",
    "$F_{AB} = \\dfrac{MS_{AB}}{MS_{Error}}$\n",
    "\n",
    "- $MS = \\dfrac{SS}{df}$"
   ]
  },
  {
   "cell_type": "markdown",
   "id": "ac291c5c-ff36-48b2-b5f4-138aac12decc",
   "metadata": {},
   "source": [
    "### ex) method, gender 두 요소 비교"
   ]
  },
  {
   "cell_type": "markdown",
   "id": "6a933806-5f84-4f6f-8cb0-d7fe9ffe1f60",
   "metadata": {},
   "source": [
    "`SAS`"
   ]
  },
  {
   "cell_type": "markdown",
   "id": "b9dc3546-9e79-4bd3-8bd4-330ea86d1291",
   "metadata": {},
   "source": [
    "```sas\n",
    "data example;\n",
    "   input score method $ gender $;\n",
    "   datalines;\n",
    "80 A M\n",
    "85 A M\n",
    "78 A M\n",
    "90 B M\n",
    "88 B M\n",
    "85 B M\n",
    "75 A F\n",
    "80 A F\n",
    "70 A F\n",
    "60 B F\n",
    "65 B F\n",
    "68 B F\n",
    ";\n",
    "run;\n",
    "\n",
    "proc glm data=example;\n",
    "   class method gender;\n",
    "   model score = method gender method*gender;\n",
    "   means method gender / tukey;\n",
    "run;\n",
    "quit;\n",
    "```"
   ]
  },
  {
   "cell_type": "markdown",
   "id": "07e97a27-4b46-426b-8f59-ea8703315817",
   "metadata": {},
   "source": [
    "- tukey 사후 검정까지 시행, method, gender 각각을 검정"
   ]
  },
  {
   "cell_type": "markdown",
   "id": "7b0bf573-c9b5-42c3-8f0c-6a7775c3e58f",
   "metadata": {},
   "source": [
    "`python`"
   ]
  },
  {
   "cell_type": "code",
   "execution_count": 128,
   "id": "157952c8-06eb-415d-aa1b-fa2b7526c244",
   "metadata": {},
   "outputs": [
    {
     "name": "stdout",
     "output_type": "stream",
     "text": [
      "                         sum_sq   df          F    PR(>F)\n",
      "C(method)             12.000000  1.0   0.791209  0.399691\n",
      "C(gender)            645.333333  1.0  42.549451  0.000184\n",
      "C(method):C(gender)  225.333333  1.0  14.857143  0.004847\n",
      "Residual             121.333333  8.0        NaN       NaN\n"
     ]
    }
   ],
   "source": [
    "import statsmodels.api as sm\n",
    "from statsmodels.formula.api import ols\n",
    "\n",
    "data = pd.DataFrame({\n",
    "    'score': [80,85,78,90,88,85,75,80,70,60,65,68],\n",
    "    'method': ['A','A','A','B','B','B','A','A','A','B','B','B'],\n",
    "    'gender': ['M','M','M','M','M','M','F','F','F','F','F','F']\n",
    "})\n",
    "\n",
    "model = ols('score ~ C(method) * C(gender)', data=data).fit()\n",
    "anova_table = sm.stats.anova_lm(model, typ=2)\n",
    "print(anova_table)"
   ]
  },
  {
   "cell_type": "markdown",
   "id": "b037ba12-2c38-49c6-bbcc-46d44be98c01",
   "metadata": {},
   "source": [
    "- type 2 error 확인\n",
    "- C()로 묶어주는 이유는 범주형인 것을 알지만 그래도 자동 범주형 처리를 해주기 위함"
   ]
  },
  {
   "cell_type": "markdown",
   "id": "dfb9f056-d4c9-4edb-a2e1-38c75a7abbfc",
   "metadata": {},
   "source": [
    "`R`"
   ]
  },
  {
   "cell_type": "code",
   "execution_count": 129,
   "id": "444406fa-2289-4095-bff3-880eca724bf0",
   "metadata": {},
   "outputs": [
    {
     "name": "stdout",
     "output_type": "stream",
     "text": [
      "              Df Sum Sq Mean Sq F value   Pr(>F)    \n",
      "method         1   12.0    12.0   0.791 0.399691    \n",
      "gender         1  645.3   645.3  42.549 0.000184 ***\n",
      "method:gender  1  225.3   225.3  14.857 0.004847 ** \n",
      "Residuals      8  121.3    15.2                     \n",
      "---\n",
      "Signif. codes:  0 ‘***’ 0.001 ‘**’ 0.01 ‘*’ 0.05 ‘.’ 0.1 ‘ ’ 1\n"
     ]
    }
   ],
   "source": [
    "%%R\n",
    "score <- c(80,85,78,90,88,85,75,80,70,60,65,68)\n",
    "method <- factor(c('A','A','A','B','B','B','A','A','A','B','B','B'))\n",
    "gender <- factor(c('M','M','M','M','M','M','F','F','F','F','F','F'))\n",
    "\n",
    "data <- data.frame(score, method, gender)\n",
    "\n",
    "# ANOVA 모델 적합\n",
    "model <- aov(score ~ method * gender, data=data)\n",
    "summary(model)"
   ]
  },
  {
   "cell_type": "markdown",
   "id": "8e54e071-0130-4a6e-88fd-5f04feb66706",
   "metadata": {},
   "source": [
    "- formular에 띄어쓰기 있는 열 이름을 쓰고 싶을때 `Q(\"\")`을 사용하자"
   ]
  },
  {
   "cell_type": "markdown",
   "id": "d14a5a27-8d35-475a-9b8e-10bbde45c7de",
   "metadata": {},
   "source": [
    "### Gender, BMI Category two-way anova"
   ]
  },
  {
   "cell_type": "markdown",
   "id": "7cb297f4-4630-40b1-9606-d6c72a0bd9fe",
   "metadata": {},
   "source": [
    "`SAS`"
   ]
  },
  {
   "cell_type": "markdown",
   "id": "4a27f8f5-99aa-4cd9-8164-2dd0f2169555",
   "metadata": {},
   "source": [
    "```sas\n",
    "data df;\n",
    "set df;\n",
    "BMI_Category = BMI Category;\n",
    "    run;\n",
    "    \n",
    "proc glm data=df;\n",
    "   class Gender;\n",
    "   model Sleep Duration = Gender BMI_Category Gender*BMI_Category;\n",
    "   means Gender BMI Category / tukey;\n",
    "run;\n",
    "quit;\n",
    "```"
   ]
  },
  {
   "cell_type": "markdown",
   "id": "b5c16722-5048-4cc8-8e9d-54033c95d5b6",
   "metadata": {},
   "source": [
    "- sas는 공백있는 문자열 허용하지 않음"
   ]
  },
  {
   "cell_type": "markdown",
   "id": "9b056d9a-1c6f-48f1-b50c-4e1520221e99",
   "metadata": {},
   "source": [
    "`python`"
   ]
  },
  {
   "cell_type": "code",
   "execution_count": 137,
   "id": "3527f60d-affe-4bbb-bb89-105aa4c26092",
   "metadata": {},
   "outputs": [
    {
     "name": "stdout",
     "output_type": "stream",
     "text": [
      "                                    sum_sq     df          F        PR(>F)\n",
      "C(Gender)                        17.425305    1.0  35.004829  7.559713e-09\n",
      "C(Q(\"BMI Category\"))             47.817415    3.0  32.019343  2.115883e-18\n",
      "C(Gender):C(Q(\"BMI Category\"))    2.633401    3.0   1.763369  1.537587e-01\n",
      "Residual                        182.193765  366.0        NaN           NaN\n"
     ]
    }
   ],
   "source": [
    "model = ols('Q(\"Sleep Duration\") ~ C(Gender) * C(Q(\"BMI Category\"))', data=df).fit()\n",
    "anova_table = sm.stats.anova_lm(model, typ=2)\n",
    "print(anova_table)"
   ]
  },
  {
   "cell_type": "markdown",
   "id": "81cf7a25-b7ee-4e46-ae3c-a684417006f1",
   "metadata": {},
   "source": [
    "`R`"
   ]
  },
  {
   "cell_type": "code",
   "execution_count": 138,
   "id": "5113eca8-ae26-4c52-a811-0e823c4f4d20",
   "metadata": {},
   "outputs": [
    {
     "name": "stdout",
     "output_type": "stream",
     "text": [
      "                       Df Sum Sq Mean Sq F value  Pr(>F)    \n",
      "Gender                  1   3.49   3.490   7.012 0.00845 ** \n",
      "`BMI Category`          3  47.82  15.939  32.019 < 2e-16 ***\n",
      "Gender:`BMI Category`   3   2.63   0.878   1.763 0.15376    \n",
      "Residuals             366 182.19   0.498                    \n",
      "---\n",
      "Signif. codes:  0 ‘***’ 0.001 ‘**’ 0.01 ‘*’ 0.05 ‘.’ 0.1 ‘ ’ 1\n"
     ]
    }
   ],
   "source": [
    "%%R\n",
    "model <- aov(`Sleep Duration` ~ Gender * `BMI Category`, data=df)\n",
    "summary(model)"
   ]
  },
  {
   "cell_type": "markdown",
   "id": "55d68083-1075-43e9-99a8-fd1f90dcdd76",
   "metadata": {
    "tags": []
   },
   "source": [
    "# Repeated mesures ANOVA "
   ]
  },
  {
   "cell_type": "markdown",
   "id": "a0808be7-7b98-49f4-896a-48ec35ead7e3",
   "metadata": {},
   "source": [
    "- 반복측정 분석을 위해 반복측정된 조건들 사이에 모든 차이값pairwise difference의 분산이 동일해야 한다는 가정인 구형성 Sphericity가정을 해야한다.\n",
    "- 구형성 가정을 위배할 경우 F값의 자유도 보정이 필요하다\n",
    "    - 보정법 및 특징\n",
    "        - Greenhouse-Geisser (GG): 보수적, 대부분 사용되는 보정법\n",
    "        - Huynh-Feldt (HF): 덜 보수적, GG가 너무 작을 때 사용\n",
    "        - Lower-bound: 가장 보수적, 거의 사용 안 함"
   ]
  },
  {
   "cell_type": "markdown",
   "id": "d517f449-5c7f-463e-9eb1-20dfd7d266f1",
   "metadata": {},
   "source": [
    "$SS_{Total} = SS_{Between Subjects} + SS_{Within Subjects}$\n",
    "\n",
    "$SS_{Within} = SS_{Treatament} + SS_{Error}$\n",
    "\n",
    "$SS_{Total} = \\sum^n_{i=1} \\sum^k_{j=1} (Y_{ij} - \\bar{Y}_{..})^2$\n",
    "\n",
    "$df_{Total} = nk-1$\n",
    "\n",
    "$SS_{Subjects} = k \\sum^n_{i=1} (\\bar{Y}_{i.} - \\bar{Y}_{..})^2$\n",
    "\n",
    "$df_{Within} = n-1$\n",
    "\n",
    "$SS_{Treatment} = n \\sum^k_{j=1}(\\bar{Y}_{.j} - \\bar{Y}_{..})2$\n",
    "\n",
    "$df_{treatment} = k-1$\n",
    "\n",
    "$SS_{Error} = SS_{Within} - SS_{Treatment}$\n",
    "\n",
    "$df_{Error} = (n-1)(k-1)$\n",
    "\n",
    "$MS_{Treatment} = \\dfrac{SS_{Treatment}}{k-1}$\n",
    "\n",
    "$MS_{Error} = \\dfrac{SS_{Error}}{(n-1)(k-1)}$\n",
    "\n",
    "$F = \\dfrac{MS_{Treatment}}{MS_{Error}}$"
   ]
  },
  {
   "cell_type": "markdown",
   "id": "37d006eb-2450-45bf-8508-bcf9787287dd",
   "metadata": {},
   "source": [
    "`SAS`"
   ]
  },
  {
   "cell_type": "markdown",
   "id": "75f83cd5-7262-4d52-9257-c290987a0355",
   "metadata": {},
   "source": [
    "```sas\n",
    "data rm_data;\n",
    "   input Subject $ Condition1 Condition2 Condition3;\n",
    "   datalines;\n",
    "S1 85 88 90\n",
    "S2 78 79 84\n",
    "S3 82 85 87\n",
    "S4 88 89 93\n",
    "S5 75 78 80\n",
    ";\n",
    "run;\n",
    "\n",
    "proc glm data=rm_data;\n",
    "   class Subject;\n",
    "   model Condition1 Condition2 Condition3 = / nouni;\n",
    "   repeated Time 3/ printe;  /* 반복 측정 변수 (3시점), 구형성 검정 추가 */\n",
    "run;\n",
    "quit;\n",
    "```"
   ]
  },
  {
   "cell_type": "markdown",
   "id": "a7ecb9d2-9e9f-4e94-b00e-fad41d437215",
   "metadata": {},
   "source": [
    "`python`"
   ]
  },
  {
   "cell_type": "code",
   "execution_count": 140,
   "id": "ec2f8282-b7b8-499b-a4da-7d2e62b64055",
   "metadata": {},
   "outputs": [
    {
     "name": "stdout",
     "output_type": "stream",
     "text": [
      "      Source         SS  DF         MS          F     p-unc       ng2  \\\n",
      "0  Condition  68.133333   2  34.066667  60.117647  0.000015  0.177925   \n",
      "1      Error   4.533333   8   0.566667        NaN       NaN       NaN   \n",
      "\n",
      "        eps  \n",
      "0  0.542214  \n",
      "1       NaN  \n"
     ]
    }
   ],
   "source": [
    "import pingouin as pg\n",
    "\n",
    "# 데이터 생성\n",
    "data = pd.DataFrame({\n",
    "    'Subject': ['S1', 'S2', 'S3', 'S4', 'S5'],\n",
    "    'Condition1': [85, 78, 82, 88, 75],\n",
    "    'Condition2': [88, 79, 85, 89, 78],\n",
    "    'Condition3': [90, 84, 87, 93, 80]\n",
    "})\n",
    "\n",
    "# long-form으로 변환\n",
    "data_long = pd.melt(data, id_vars=['Subject'], value_vars=['Condition1','Condition2','Condition3'],\n",
    "                    var_name='Condition', value_name='Score')\n",
    "\n",
    "# Repeated Measures ANOVA\n",
    "aov = pg.rm_anova(dv='Score', within='Condition', subject='Subject', data=data_long, detailed=True)\n",
    "print(aov)"
   ]
  },
  {
   "cell_type": "markdown",
   "id": "d9228d4d-8693-4eeb-8bb5-b155c57b8b81",
   "metadata": {},
   "source": [
    "- eps Greenhouse-Geisser의 에타로, 보정계수인데 변수가 종속에 얼마나 영향을 미치는지 사용하는 건데\n",
    "- 보정이 필요하다고 보고 아래와 같이 보정 진행"
   ]
  },
  {
   "cell_type": "code",
   "execution_count": 144,
   "id": "f8f95ff8-649b-4e5d-af9a-1a10f90f02b0",
   "metadata": {},
   "outputs": [
    {
     "name": "stdout",
     "output_type": "stream",
     "text": [
      "GG-corrected p-value: 0.001006\n"
     ]
    }
   ],
   "source": [
    "from scipy.stats import f\n",
    "\n",
    "F = 60.117647\n",
    "df1 = 2  # 조건 수 - 1\n",
    "df2 = 8  # (n - 1)(조건 수 - 1) = (5-1)*(3-1)\n",
    "eps = 0.542214\n",
    "\n",
    "# 보정된 자유도\n",
    "df1_corr = df1 * eps\n",
    "df2_corr = df2 * eps\n",
    "\n",
    "# 보정된 p-value\n",
    "p_corrected = 1 - f.cdf(F, df1_corr, df2_corr)\n",
    "print(f\"GG-corrected p-value: {p_corrected:.6f}\")"
   ]
  },
  {
   "cell_type": "markdown",
   "id": "45064df8-2e75-484e-8a6e-f354b323991e",
   "metadata": {},
   "source": [
    "`R`"
   ]
  },
  {
   "cell_type": "markdown",
   "id": "fceb0682-8db1-4da9-9faa-6e5379275bdf",
   "metadata": {},
   "source": [
    "```r\n",
    "library(tidyr)\n",
    "library(ez)\n",
    "\n",
    "data <- data.frame(\n",
    "  Subject = factor(c(\"S1\", \"S2\", \"S3\", \"S4\", \"S5\")),\n",
    "  Condition1 = c(85, 78, 82, 88, 75),\n",
    "  Condition2 = c(88, 79, 85, 89, 78),\n",
    "  Condition3 = c(90, 84, 87, 93, 80)\n",
    ")\n",
    "\n",
    "# long-form으로 변환\n",
    "data_long <- pivot_longer(data, cols = starts_with(\"Condition\"),\n",
    "                          names_to = \"Condition\", values_to = \"Score\")\n",
    "\n",
    "# ezANOVA 설치 문제로 주석으로 대체\n",
    "result <- ezANOVA(data = data_long,\n",
    "                  dv = Score,\n",
    "                  wid = Subject,\n",
    "                  within = Condition,\n",
    "                  detailed = TRUE)\n",
    "\n",
    "print(result)\n",
    "```"
   ]
  },
  {
   "cell_type": "markdown",
   "id": "96f992f8-6b2c-4399-b5fa-865276e23af2",
   "metadata": {},
   "source": [
    "- 결과 산출하면 p값이 두 개 나오는 데 p Mauchly value를 확인해서 0.05보다 크면 p value 사용"
   ]
  },
  {
   "cell_type": "code",
   "execution_count": null,
   "id": "8d367aea-d82e-4ff2-b547-36c96e154d52",
   "metadata": {},
   "outputs": [],
   "source": []
  }
 ],
 "metadata": {
  "kernelspec": {
   "display_name": "Python 3",
   "language": "python",
   "name": "python3"
  },
  "language_info": {
   "codemirror_mode": {
    "name": "ipython",
    "version": 3
   },
   "file_extension": ".py",
   "mimetype": "text/x-python",
   "name": "python",
   "nbconvert_exporter": "python",
   "pygments_lexer": "ipython3",
   "version": "3.8.0"
  }
 },
 "nbformat": 4,
 "nbformat_minor": 5
}
