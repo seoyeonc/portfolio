{
 "cells": [
  {
   "cell_type": "raw",
   "id": "fc3499d3-e5f6-4d7e-8e3b-871e7affd8c5",
   "metadata": {
    "id": "cac470df-29e7-4148-9bbd-d8b9a32fa570",
    "tags": []
   },
   "source": [
    "---\n",
    "title: \"[Program] SAS vs Python vs R\"\n",
    "author: \"SEOYEON CHOI\"\n",
    "date: \"2025-06-17\"\n",
    "---"
   ]
  },
  {
   "cell_type": "markdown",
   "id": "38d6f376-3a37-4bc4-a59f-7b57a8e1b72d",
   "metadata": {},
   "source": [
    "# Import"
   ]
  },
  {
   "cell_type": "markdown",
   "id": "61e85e1b-750c-4ddb-80d4-fe33047a7090",
   "metadata": {},
   "source": [
    "- python"
   ]
  },
  {
   "cell_type": "code",
   "execution_count": 30,
   "id": "6a491b5c-1f09-4e9f-a878-a24aa70d3c5e",
   "metadata": {},
   "outputs": [],
   "source": [
    "import scipy.stats as stats\n",
    "import pandas as pd"
   ]
  },
  {
   "cell_type": "markdown",
   "id": "5d7c24cf-2573-40c9-8326-12b698090c74",
   "metadata": {},
   "source": [
    "- R"
   ]
  },
  {
   "cell_type": "code",
   "execution_count": 21,
   "id": "ab240b7f-ce9f-4d14-bfe9-06a023748ba0",
   "metadata": {},
   "outputs": [],
   "source": [
    "import rpy2"
   ]
  },
  {
   "cell_type": "code",
   "execution_count": 23,
   "id": "dcfde0b4-9b75-474a-bb22-c154252f2902",
   "metadata": {},
   "outputs": [],
   "source": [
    "%load_ext rpy2.ipython"
   ]
  },
  {
   "cell_type": "markdown",
   "id": "9b2d2885-44c6-4461-8397-401ab11ab07d",
   "metadata": {},
   "source": [
    "# Data"
   ]
  },
  {
   "cell_type": "markdown",
   "id": "ba1afdaa-8886-4807-9787-4ea3e3e64ef3",
   "metadata": {},
   "source": [
    "[ref](https://www.kaggle.com/datasets/uom190346a/sleep-health-and-lifestyle-dataset)"
   ]
  },
  {
   "cell_type": "markdown",
   "id": "81a5f783-a7d3-4be4-82ac-cec99aebe3ed",
   "metadata": {},
   "source": [
    "| 변수명 | 설명 |\n",
    "|--------|------|\n",
    "| **Person ID** | 각 개인을 식별하기 위한 고유 식별자입니다. |\n",
    "| **Gender** | 개인의 성별을 나타냅니다. <br>값: `Male`, `Female` |\n",
    "| **Age** | 개인의 나이(연령)를 년 단위로 나타냅니다. |\n",
    "| **Occupation** | 개인의 직업 또는 직무 유형을 나타냅니다. |\n",
    "| **Sleep Duration (hours)** | 하루 평균 수면 시간 (단위: 시간) |\n",
    "| **Quality of Sleep (scale: 1-10)** | 수면의 질을 1~10 척도로 평가한 값입니다. <br>1: 매우 나쁨, 10: 매우 좋음 |\n",
    "| **Physical Activity Level (minutes/day)** | 하루 평균 신체 활동 시간 (단위: 분) |\n",
    "| **Stress Level (scale: 1-10)** | 스트레스 수준을 1~10 척도로 평가한 값입니다. <br>1: 매우 낮음, 10: 매우 높음 |\n",
    "| **BMI Category** | 체질량지수(BMI)에 따른 분류 <br>값 예시: `Underweight`, `Normal`, `Overweight` |\n",
    "| **Blood Pressure (systolic/diastolic)** | 혈압 수치로, `수축기/이완기` 형식 (예: `120/80`) |\n",
    "| **Heart Rate (bpm)** | 안정 시 심박수 (단위: bpm, beats per minute) |\n",
    "| **Daily Steps** | 하루 동안 걸은 총 걸음 수 |\n",
    "| **Sleep Disorder** | 수면 장애 여부 및 유형 |\n",
    "| &nbsp; | - `None`: 수면 장애 없음 |\n",
    "| &nbsp; | - `Insomnia`: 불면증 |\n",
    "| &nbsp; | - `Sleep Apnea`: 수면 무호흡증 |"
   ]
  },
  {
   "cell_type": "code",
   "execution_count": 31,
   "id": "4e8874a7-f3e8-4969-9a25-03443e846a7f",
   "metadata": {},
   "outputs": [],
   "source": [
    "df = pd.read_csv('../../../../delete/Sleep_health_and_lifestyle_dataset.csv')"
   ]
  },
  {
   "cell_type": "code",
   "execution_count": 32,
   "id": "1d424668-6594-4252-944d-0650fca5f511",
   "metadata": {},
   "outputs": [
    {
     "data": {
      "text/html": [
       "<div>\n",
       "<style scoped>\n",
       "    .dataframe tbody tr th:only-of-type {\n",
       "        vertical-align: middle;\n",
       "    }\n",
       "\n",
       "    .dataframe tbody tr th {\n",
       "        vertical-align: top;\n",
       "    }\n",
       "\n",
       "    .dataframe thead th {\n",
       "        text-align: right;\n",
       "    }\n",
       "</style>\n",
       "<table border=\"1\" class=\"dataframe\">\n",
       "  <thead>\n",
       "    <tr style=\"text-align: right;\">\n",
       "      <th></th>\n",
       "      <th>Person ID</th>\n",
       "      <th>Gender</th>\n",
       "      <th>Age</th>\n",
       "      <th>Occupation</th>\n",
       "      <th>Sleep Duration</th>\n",
       "      <th>Quality of Sleep</th>\n",
       "      <th>Physical Activity Level</th>\n",
       "      <th>Stress Level</th>\n",
       "      <th>BMI Category</th>\n",
       "      <th>Blood Pressure</th>\n",
       "      <th>Heart Rate</th>\n",
       "      <th>Daily Steps</th>\n",
       "      <th>Sleep Disorder</th>\n",
       "    </tr>\n",
       "  </thead>\n",
       "  <tbody>\n",
       "    <tr>\n",
       "      <th>0</th>\n",
       "      <td>1</td>\n",
       "      <td>Male</td>\n",
       "      <td>27</td>\n",
       "      <td>Software Engineer</td>\n",
       "      <td>6.1</td>\n",
       "      <td>6</td>\n",
       "      <td>42</td>\n",
       "      <td>6</td>\n",
       "      <td>Overweight</td>\n",
       "      <td>126/83</td>\n",
       "      <td>77</td>\n",
       "      <td>4200</td>\n",
       "      <td>None</td>\n",
       "    </tr>\n",
       "    <tr>\n",
       "      <th>1</th>\n",
       "      <td>2</td>\n",
       "      <td>Male</td>\n",
       "      <td>28</td>\n",
       "      <td>Doctor</td>\n",
       "      <td>6.2</td>\n",
       "      <td>6</td>\n",
       "      <td>60</td>\n",
       "      <td>8</td>\n",
       "      <td>Normal</td>\n",
       "      <td>125/80</td>\n",
       "      <td>75</td>\n",
       "      <td>10000</td>\n",
       "      <td>None</td>\n",
       "    </tr>\n",
       "    <tr>\n",
       "      <th>2</th>\n",
       "      <td>3</td>\n",
       "      <td>Male</td>\n",
       "      <td>28</td>\n",
       "      <td>Doctor</td>\n",
       "      <td>6.2</td>\n",
       "      <td>6</td>\n",
       "      <td>60</td>\n",
       "      <td>8</td>\n",
       "      <td>Normal</td>\n",
       "      <td>125/80</td>\n",
       "      <td>75</td>\n",
       "      <td>10000</td>\n",
       "      <td>None</td>\n",
       "    </tr>\n",
       "    <tr>\n",
       "      <th>3</th>\n",
       "      <td>4</td>\n",
       "      <td>Male</td>\n",
       "      <td>28</td>\n",
       "      <td>Sales Representative</td>\n",
       "      <td>5.9</td>\n",
       "      <td>4</td>\n",
       "      <td>30</td>\n",
       "      <td>8</td>\n",
       "      <td>Obese</td>\n",
       "      <td>140/90</td>\n",
       "      <td>85</td>\n",
       "      <td>3000</td>\n",
       "      <td>Sleep Apnea</td>\n",
       "    </tr>\n",
       "    <tr>\n",
       "      <th>4</th>\n",
       "      <td>5</td>\n",
       "      <td>Male</td>\n",
       "      <td>28</td>\n",
       "      <td>Sales Representative</td>\n",
       "      <td>5.9</td>\n",
       "      <td>4</td>\n",
       "      <td>30</td>\n",
       "      <td>8</td>\n",
       "      <td>Obese</td>\n",
       "      <td>140/90</td>\n",
       "      <td>85</td>\n",
       "      <td>3000</td>\n",
       "      <td>Sleep Apnea</td>\n",
       "    </tr>\n",
       "    <tr>\n",
       "      <th>...</th>\n",
       "      <td>...</td>\n",
       "      <td>...</td>\n",
       "      <td>...</td>\n",
       "      <td>...</td>\n",
       "      <td>...</td>\n",
       "      <td>...</td>\n",
       "      <td>...</td>\n",
       "      <td>...</td>\n",
       "      <td>...</td>\n",
       "      <td>...</td>\n",
       "      <td>...</td>\n",
       "      <td>...</td>\n",
       "      <td>...</td>\n",
       "    </tr>\n",
       "    <tr>\n",
       "      <th>369</th>\n",
       "      <td>370</td>\n",
       "      <td>Female</td>\n",
       "      <td>59</td>\n",
       "      <td>Nurse</td>\n",
       "      <td>8.1</td>\n",
       "      <td>9</td>\n",
       "      <td>75</td>\n",
       "      <td>3</td>\n",
       "      <td>Overweight</td>\n",
       "      <td>140/95</td>\n",
       "      <td>68</td>\n",
       "      <td>7000</td>\n",
       "      <td>Sleep Apnea</td>\n",
       "    </tr>\n",
       "    <tr>\n",
       "      <th>370</th>\n",
       "      <td>371</td>\n",
       "      <td>Female</td>\n",
       "      <td>59</td>\n",
       "      <td>Nurse</td>\n",
       "      <td>8.0</td>\n",
       "      <td>9</td>\n",
       "      <td>75</td>\n",
       "      <td>3</td>\n",
       "      <td>Overweight</td>\n",
       "      <td>140/95</td>\n",
       "      <td>68</td>\n",
       "      <td>7000</td>\n",
       "      <td>Sleep Apnea</td>\n",
       "    </tr>\n",
       "    <tr>\n",
       "      <th>371</th>\n",
       "      <td>372</td>\n",
       "      <td>Female</td>\n",
       "      <td>59</td>\n",
       "      <td>Nurse</td>\n",
       "      <td>8.1</td>\n",
       "      <td>9</td>\n",
       "      <td>75</td>\n",
       "      <td>3</td>\n",
       "      <td>Overweight</td>\n",
       "      <td>140/95</td>\n",
       "      <td>68</td>\n",
       "      <td>7000</td>\n",
       "      <td>Sleep Apnea</td>\n",
       "    </tr>\n",
       "    <tr>\n",
       "      <th>372</th>\n",
       "      <td>373</td>\n",
       "      <td>Female</td>\n",
       "      <td>59</td>\n",
       "      <td>Nurse</td>\n",
       "      <td>8.1</td>\n",
       "      <td>9</td>\n",
       "      <td>75</td>\n",
       "      <td>3</td>\n",
       "      <td>Overweight</td>\n",
       "      <td>140/95</td>\n",
       "      <td>68</td>\n",
       "      <td>7000</td>\n",
       "      <td>Sleep Apnea</td>\n",
       "    </tr>\n",
       "    <tr>\n",
       "      <th>373</th>\n",
       "      <td>374</td>\n",
       "      <td>Female</td>\n",
       "      <td>59</td>\n",
       "      <td>Nurse</td>\n",
       "      <td>8.1</td>\n",
       "      <td>9</td>\n",
       "      <td>75</td>\n",
       "      <td>3</td>\n",
       "      <td>Overweight</td>\n",
       "      <td>140/95</td>\n",
       "      <td>68</td>\n",
       "      <td>7000</td>\n",
       "      <td>Sleep Apnea</td>\n",
       "    </tr>\n",
       "  </tbody>\n",
       "</table>\n",
       "<p>374 rows × 13 columns</p>\n",
       "</div>"
      ],
      "text/plain": [
       "     Person ID  Gender  Age            Occupation  Sleep Duration  \\\n",
       "0            1    Male   27     Software Engineer             6.1   \n",
       "1            2    Male   28                Doctor             6.2   \n",
       "2            3    Male   28                Doctor             6.2   \n",
       "3            4    Male   28  Sales Representative             5.9   \n",
       "4            5    Male   28  Sales Representative             5.9   \n",
       "..         ...     ...  ...                   ...             ...   \n",
       "369        370  Female   59                 Nurse             8.1   \n",
       "370        371  Female   59                 Nurse             8.0   \n",
       "371        372  Female   59                 Nurse             8.1   \n",
       "372        373  Female   59                 Nurse             8.1   \n",
       "373        374  Female   59                 Nurse             8.1   \n",
       "\n",
       "     Quality of Sleep  Physical Activity Level  Stress Level BMI Category  \\\n",
       "0                   6                       42             6   Overweight   \n",
       "1                   6                       60             8       Normal   \n",
       "2                   6                       60             8       Normal   \n",
       "3                   4                       30             8        Obese   \n",
       "4                   4                       30             8        Obese   \n",
       "..                ...                      ...           ...          ...   \n",
       "369                 9                       75             3   Overweight   \n",
       "370                 9                       75             3   Overweight   \n",
       "371                 9                       75             3   Overweight   \n",
       "372                 9                       75             3   Overweight   \n",
       "373                 9                       75             3   Overweight   \n",
       "\n",
       "    Blood Pressure  Heart Rate  Daily Steps Sleep Disorder  \n",
       "0           126/83          77         4200           None  \n",
       "1           125/80          75        10000           None  \n",
       "2           125/80          75        10000           None  \n",
       "3           140/90          85         3000    Sleep Apnea  \n",
       "4           140/90          85         3000    Sleep Apnea  \n",
       "..             ...         ...          ...            ...  \n",
       "369         140/95          68         7000    Sleep Apnea  \n",
       "370         140/95          68         7000    Sleep Apnea  \n",
       "371         140/95          68         7000    Sleep Apnea  \n",
       "372         140/95          68         7000    Sleep Apnea  \n",
       "373         140/95          68         7000    Sleep Apnea  \n",
       "\n",
       "[374 rows x 13 columns]"
      ]
     },
     "execution_count": 32,
     "metadata": {},
     "output_type": "execute_result"
    }
   ],
   "source": [
    "df"
   ]
  },
  {
   "cell_type": "markdown",
   "id": "7b22e7eb-93a1-477f-b6b1-b5bcc59b518e",
   "metadata": {
    "tags": []
   },
   "source": [
    "# One sample t-test"
   ]
  },
  {
   "cell_type": "markdown",
   "id": "dde7c04a-f99f-459e-b154-abcb234abe0e",
   "metadata": {},
   "source": [
    "$t = \\dfrac{\\bar{x}-\\mu_0}{s/\\sqrt{n}}$"
   ]
  },
  {
   "cell_type": "markdown",
   "id": "a12117fe-5ea6-432d-88db-98870e0a351d",
   "metadata": {},
   "source": [
    "### ex) score(60, 74, 69, 80, 72)의 평균은 75이다."
   ]
  },
  {
   "cell_type": "markdown",
   "id": "891d7ca6-4dbd-4938-9486-23f826edf126",
   "metadata": {},
   "source": [
    "$t = \\dfrac{\\bar{x}-75}{s/\\sqrt{n}}$"
   ]
  },
  {
   "cell_type": "markdown",
   "id": "3d956453-4db2-4702-b749-162bb1da2b74",
   "metadata": {},
   "source": [
    "`SAS`"
   ]
  },
  {
   "cell_type": "markdown",
   "id": "05351e63-c2d9-476e-810f-4aaa98124251",
   "metadata": {},
   "source": [
    "```sas\n",
    "data test;\n",
    "   input score;\n",
    "   datalines;\n",
    "60\n",
    "74\n",
    "69\n",
    "80\n",
    "72\n",
    ";\n",
    "run;\n",
    "\n",
    "proc ttest data=test h0=75; \\*귀무가설 h_0 = 75*\\\n",
    "   var score;\n",
    "run;\n",
    "```"
   ]
  },
  {
   "cell_type": "markdown",
   "id": "04303389-246f-46a4-ab1a-05caca1ad28e",
   "metadata": {},
   "source": [
    "`python`"
   ]
  },
  {
   "cell_type": "code",
   "execution_count": 18,
   "id": "729a491b-72b8-4b3f-a393-eca7cd5653ca",
   "metadata": {},
   "outputs": [],
   "source": [
    "scores = [60, 74, 69, 80, 72]"
   ]
  },
  {
   "cell_type": "code",
   "execution_count": 19,
   "id": "9fc7f863-78d3-4bb0-9b86-ea0b7bdcd875",
   "metadata": {},
   "outputs": [],
   "source": [
    "t_stat, p_value = stats.ttest_1samp(scores, popmean=75)"
   ]
  },
  {
   "cell_type": "code",
   "execution_count": 20,
   "id": "8a796897-1f05-43e6-9358-05ca0fc99e0b",
   "metadata": {},
   "outputs": [
    {
     "name": "stdout",
     "output_type": "stream",
     "text": [
      "T-statistic: -1.2172, P-value: 0.2904\n"
     ]
    }
   ],
   "source": [
    "print(f\"T-statistic: {t_stat:.4f}, P-value: {p_value:.4f}\")"
   ]
  },
  {
   "cell_type": "markdown",
   "id": "b5626240-bd21-4ddd-bb43-1647db75457e",
   "metadata": {},
   "source": [
    "`R`"
   ]
  },
  {
   "cell_type": "code",
   "execution_count": 24,
   "id": "de0a137c-4880-41e1-bf63-ea5a9c1e4b9e",
   "metadata": {},
   "outputs": [
    {
     "name": "stdout",
     "output_type": "stream",
     "text": [
      "\n",
      "\tOne Sample t-test\n",
      "\n",
      "data:  scores\n",
      "t = -1.2172, df = 4, p-value = 0.2904\n",
      "alternative hypothesis: true mean is not equal to 75\n",
      "95 percent confidence interval:\n",
      " 61.87567 80.12433\n",
      "sample estimates:\n",
      "mean of x \n",
      "       71 \n",
      "\n"
     ]
    }
   ],
   "source": [
    "%%R\n",
    "scores <- c(60, 74, 69, 80, 72)\n",
    "\n",
    "t.test(scores, mu = 75)"
   ]
  },
  {
   "cell_type": "markdown",
   "id": "1c294cc8-933c-40cc-9d26-beefc1f7abec",
   "metadata": {},
   "source": [
    "### data ex) Sleep Duration 평균은 7이다."
   ]
  },
  {
   "cell_type": "markdown",
   "id": "743eee6c-c939-4fd6-8b9d-61e42a526370",
   "metadata": {},
   "source": [
    "`SAS`"
   ]
  },
  {
   "cell_type": "markdown",
   "id": "cc778e84-971a-4eb8-8561-ed31fe7dc983",
   "metadata": {},
   "source": [
    "```sas\n",
    "proc ttest data=df h0=7; \\*귀무가설 h_0 = 75*\\\n",
    "   var Sleep Duration;\n",
    "run;\n",
    "```"
   ]
  },
  {
   "cell_type": "markdown",
   "id": "02039394-1079-48d3-a8a5-f5c4b9c214f4",
   "metadata": {},
   "source": [
    "`python`"
   ]
  },
  {
   "cell_type": "code",
   "execution_count": 34,
   "id": "351e5808-4da6-4b2d-938a-ca8e29182912",
   "metadata": {},
   "outputs": [
    {
     "data": {
      "text/plain": [
       "Ttest_1sampResult(statistic=3.2104462758942, pvalue=0.0014402421900475528)"
      ]
     },
     "execution_count": 34,
     "metadata": {},
     "output_type": "execute_result"
    }
   ],
   "source": [
    "stats.ttest_1samp(df['Sleep Duration'], popmean=7)"
   ]
  },
  {
   "cell_type": "markdown",
   "id": "1d40a5f5-7c17-4a0f-aa76-56ad4462dd07",
   "metadata": {},
   "source": [
    "`R`"
   ]
  },
  {
   "cell_type": "code",
   "execution_count": 35,
   "id": "66cfbd0b-d9f6-477e-8a63-d82f2e0a8435",
   "metadata": {},
   "outputs": [
    {
     "name": "stderr",
     "output_type": "stream",
     "text": [
      "/home/csy/anaconda3/envs/temp_csy/lib/python3.8/site-packages/rpy2/robjects/pandas2ri.py:55: FutureWarning: iteritems is deprecated and will be removed in a future version. Use .items instead.\n",
      "  for name, values in obj.iteritems():\n"
     ]
    }
   ],
   "source": [
    "%R -i df "
   ]
  },
  {
   "cell_type": "code",
   "execution_count": 41,
   "id": "9fd47717-2881-42c5-877e-f31ae53fd2b6",
   "metadata": {},
   "outputs": [
    {
     "name": "stdout",
     "output_type": "stream",
     "text": [
      "\n",
      "\tOne Sample t-test\n",
      "\n",
      "data:  df[\"Sleep Duration\"]\n",
      "t = 3.2104, df = 373, p-value = 0.00144\n",
      "alternative hypothesis: true mean is not equal to 7\n",
      "95 percent confidence interval:\n",
      " 7.051185 7.212986\n",
      "sample estimates:\n",
      "mean of x \n",
      " 7.132086 \n",
      "\n"
     ]
    }
   ],
   "source": [
    "%%R\n",
    "t.test(df['Sleep Duration'], mu = 7)"
   ]
  },
  {
   "cell_type": "markdown",
   "id": "62b74fc1-25c6-4519-bd83-0ae1c4bc4ae2",
   "metadata": {},
   "source": [
    "결론: p-value가 0.05보다 작아 귀무가설 기각하여 평균은 7이 아님을 알 수 있다."
   ]
  },
  {
   "cell_type": "markdown",
   "id": "244eeae1-e249-43d2-af7a-21c6af95e343",
   "metadata": {},
   "source": [
    "# Two sample t-test"
   ]
  },
  {
   "cell_type": "markdown",
   "id": "90c8c23a-f45c-45a3-abd3-294a4b3fc561",
   "metadata": {},
   "source": [
    "$t = \\dfrac{\\bar{x}_1 - \\bar{x}_2}{\\sqrt{s_p (\\frac{1}{n_1}-\\frac{1}{n_2})}}, s_p = \\dfrac{(n_1 - 1)s_1^2 - (n_2 - 1)s_2^2}{n_1 - n_2-2}$"
   ]
  },
  {
   "cell_type": "markdown",
   "id": "4ca8fa2a-2b08-49e5-8c4b-9f0293bb4c05",
   "metadata": {},
   "source": [
    "### ex) a vs b group 평균 비교"
   ]
  },
  {
   "cell_type": "markdown",
   "id": "b29340fc-f7e6-4394-8fab-c9dd295007c6",
   "metadata": {},
   "source": [
    "`SAS`"
   ]
  },
  {
   "cell_type": "markdown",
   "id": "f1b5742f-babe-429c-9469-a9852bc0a83b",
   "metadata": {},
   "source": [
    "```sas\n",
    "data two_group;\n",
    "   input group $ score;\n",
    "   datalines;\n",
    "A 85\n",
    "A 88\n",
    "A 90\n",
    "B 80\n",
    "B 78\n",
    "B 82\n",
    ";\n",
    "run;\n",
    "\n",
    "proc ttest data=two_group;\n",
    "   class group;\n",
    "   var score;\n",
    "run;\n",
    "```"
   ]
  },
  {
   "cell_type": "markdown",
   "id": "5ed45b7d-b796-4b9c-92cc-795404dfc47b",
   "metadata": {},
   "source": [
    "- SAS에서는 등분산을 가정한 결과(Pooled)와 가정하지 않은 결과(Satterthwaite/Welch)를 모두 제시하고 있어 별도의 옵션은 존재하지 않는다."
   ]
  },
  {
   "cell_type": "markdown",
   "id": "befb2af3-ceef-467f-9bb7-023b1ccd4b10",
   "metadata": {},
   "source": [
    "`python`"
   ]
  },
  {
   "cell_type": "code",
   "execution_count": 25,
   "id": "82e28788-657d-4a44-84fc-77e150f4df32",
   "metadata": {},
   "outputs": [],
   "source": [
    "group_a = [85, 88, 90]\n",
    "group_b = [80, 78, 82]"
   ]
  },
  {
   "cell_type": "markdown",
   "id": "2158276b-7613-40cb-a054-c8e3569d3b38",
   "metadata": {},
   "source": [
    "- equal_var는 등분산 가정 어떻게 할지"
   ]
  },
  {
   "cell_type": "code",
   "execution_count": 26,
   "id": "31226974-5633-48ed-b14b-30ca1f795358",
   "metadata": {},
   "outputs": [],
   "source": [
    "t_stat, p_value = stats.ttest_ind(group_a, group_b, equal_var=True)"
   ]
  },
  {
   "cell_type": "code",
   "execution_count": 27,
   "id": "77697611-dd80-45c4-8f63-9addb796f29c",
   "metadata": {},
   "outputs": [
    {
     "name": "stdout",
     "output_type": "stream",
     "text": [
      "T-statistic: 4.1309, P-value: 0.0145\n"
     ]
    }
   ],
   "source": [
    "print(f\"T-statistic: {t_stat:.4f}, P-value: {p_value:.4f}\")"
   ]
  },
  {
   "cell_type": "markdown",
   "id": "c30537de-ba30-494a-9bf6-94509bfd5a6c",
   "metadata": {},
   "source": [
    "`R`"
   ]
  },
  {
   "cell_type": "markdown",
   "id": "c540ad35-937e-48ea-a4af-25c452564a31",
   "metadata": {},
   "source": [
    "- var.equal는 등분산 가정 어떻게 할지"
   ]
  },
  {
   "cell_type": "code",
   "execution_count": 28,
   "id": "68176a1d-86e7-4aa8-b45b-d1309bb3fd3b",
   "metadata": {},
   "outputs": [
    {
     "name": "stdout",
     "output_type": "stream",
     "text": [
      "\n",
      "\tTwo Sample t-test\n",
      "\n",
      "data:  group_a and group_b\n",
      "t = 4.1309, df = 4, p-value = 0.01448\n",
      "alternative hypothesis: true difference in means is not equal to 0\n",
      "95 percent confidence interval:\n",
      "  2.513803 12.819531\n",
      "sample estimates:\n",
      "mean of x mean of y \n",
      " 87.66667  80.00000 \n",
      "\n"
     ]
    }
   ],
   "source": [
    "%%R\n",
    "group_a <- c(85, 88, 90)\n",
    "group_b <- c(80, 78, 82)\n",
    "\n",
    "t.test(group_a, group_b, var.equal = TRUE)"
   ]
  },
  {
   "cell_type": "markdown",
   "id": "1182258b-ec3b-4105-9a8a-d9d27c48bd0c",
   "metadata": {},
   "source": [
    "# Paired t-test"
   ]
  },
  {
   "cell_type": "code",
   "execution_count": null,
   "id": "89478c28-d176-45a7-86a4-7ffe9b0eb713",
   "metadata": {},
   "outputs": [],
   "source": []
  }
 ],
 "metadata": {
  "kernelspec": {
   "display_name": "Python 3",
   "language": "python",
   "name": "python3"
  },
  "language_info": {
   "codemirror_mode": {
    "name": "ipython",
    "version": 3
   },
   "file_extension": ".py",
   "mimetype": "text/x-python",
   "name": "python",
   "nbconvert_exporter": "python",
   "pygments_lexer": "ipython3",
   "version": "3.8.0"
  }
 },
 "nbformat": 4,
 "nbformat_minor": 5
}
